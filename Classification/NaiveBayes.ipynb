{
  "nbformat": 4,
  "nbformat_minor": 0,
  "metadata": {
    "colab": {
      "name": "NaiveBayes.ipynb",
      "provenance": [],
      "collapsed_sections": []
    },
    "kernelspec": {
      "name": "python3",
      "display_name": "Python 3"
    },
    "language_info": {
      "name": "python"
    }
  },
  "cells": [
    {
      "cell_type": "code",
      "execution_count": 1,
      "metadata": {
        "id": "iSPpn5bzLi4z"
      },
      "outputs": [],
      "source": [
        "import pandas as pd\n",
        "import numpy as np\n",
        "import matplotlib.pyplot as plt\n",
        "from sklearn.model_selection import train_test_split\n",
        "import math\n",
        "from sklearn.metrics import confusion_matrix\n",
        "from sklearn.metrics import accuracy_score\n",
        "from sklearn.metrics import classification_report"
      ]
    },
    {
      "cell_type": "code",
      "source": [
        "from google.colab import drive\n",
        "drive.mount('/content/drive')"
      ],
      "metadata": {
        "id": "KvZLyT8NMwPo",
        "colab": {
          "base_uri": "https://localhost:8080/"
        },
        "outputId": "86c02dd7-809a-4c50-ddf1-a6e8a46a793b"
      },
      "execution_count": 2,
      "outputs": [
        {
          "output_type": "stream",
          "name": "stdout",
          "text": [
            "Drive already mounted at /content/drive; to attempt to forcibly remount, call drive.mount(\"/content/drive\", force_remount=True).\n"
          ]
        }
      ]
    },
    {
      "cell_type": "code",
      "source": [
        "irisDataset = pd.read_csv('/content/drive/MyDrive/MachineLearning/datasets/IRIS.csv')\n",
        "irisDataset.head()"
      ],
      "metadata": {
        "colab": {
          "base_uri": "https://localhost:8080/",
          "height": 206
        },
        "id": "ke8MAM9u8VCS",
        "outputId": "19d82834-cbc8-40eb-f84d-adc28f424ad8"
      },
      "execution_count": 3,
      "outputs": [
        {
          "output_type": "execute_result",
          "data": {
            "text/plain": [
              "   sepal_length  sepal_width  petal_length  petal_width      species\n",
              "0           5.1          3.5           1.4          0.2  Iris-setosa\n",
              "1           4.9          3.0           1.4          0.2  Iris-setosa\n",
              "2           4.7          3.2           1.3          0.2  Iris-setosa\n",
              "3           4.6          3.1           1.5          0.2  Iris-setosa\n",
              "4           5.0          3.6           1.4          0.2  Iris-setosa"
            ],
            "text/html": [
              "\n",
              "  <div id=\"df-f741d3a4-e7cd-456d-af81-64a8435df53e\">\n",
              "    <div class=\"colab-df-container\">\n",
              "      <div>\n",
              "<style scoped>\n",
              "    .dataframe tbody tr th:only-of-type {\n",
              "        vertical-align: middle;\n",
              "    }\n",
              "\n",
              "    .dataframe tbody tr th {\n",
              "        vertical-align: top;\n",
              "    }\n",
              "\n",
              "    .dataframe thead th {\n",
              "        text-align: right;\n",
              "    }\n",
              "</style>\n",
              "<table border=\"1\" class=\"dataframe\">\n",
              "  <thead>\n",
              "    <tr style=\"text-align: right;\">\n",
              "      <th></th>\n",
              "      <th>sepal_length</th>\n",
              "      <th>sepal_width</th>\n",
              "      <th>petal_length</th>\n",
              "      <th>petal_width</th>\n",
              "      <th>species</th>\n",
              "    </tr>\n",
              "  </thead>\n",
              "  <tbody>\n",
              "    <tr>\n",
              "      <th>0</th>\n",
              "      <td>5.1</td>\n",
              "      <td>3.5</td>\n",
              "      <td>1.4</td>\n",
              "      <td>0.2</td>\n",
              "      <td>Iris-setosa</td>\n",
              "    </tr>\n",
              "    <tr>\n",
              "      <th>1</th>\n",
              "      <td>4.9</td>\n",
              "      <td>3.0</td>\n",
              "      <td>1.4</td>\n",
              "      <td>0.2</td>\n",
              "      <td>Iris-setosa</td>\n",
              "    </tr>\n",
              "    <tr>\n",
              "      <th>2</th>\n",
              "      <td>4.7</td>\n",
              "      <td>3.2</td>\n",
              "      <td>1.3</td>\n",
              "      <td>0.2</td>\n",
              "      <td>Iris-setosa</td>\n",
              "    </tr>\n",
              "    <tr>\n",
              "      <th>3</th>\n",
              "      <td>4.6</td>\n",
              "      <td>3.1</td>\n",
              "      <td>1.5</td>\n",
              "      <td>0.2</td>\n",
              "      <td>Iris-setosa</td>\n",
              "    </tr>\n",
              "    <tr>\n",
              "      <th>4</th>\n",
              "      <td>5.0</td>\n",
              "      <td>3.6</td>\n",
              "      <td>1.4</td>\n",
              "      <td>0.2</td>\n",
              "      <td>Iris-setosa</td>\n",
              "    </tr>\n",
              "  </tbody>\n",
              "</table>\n",
              "</div>\n",
              "      <button class=\"colab-df-convert\" onclick=\"convertToInteractive('df-f741d3a4-e7cd-456d-af81-64a8435df53e')\"\n",
              "              title=\"Convert this dataframe to an interactive table.\"\n",
              "              style=\"display:none;\">\n",
              "        \n",
              "  <svg xmlns=\"http://www.w3.org/2000/svg\" height=\"24px\"viewBox=\"0 0 24 24\"\n",
              "       width=\"24px\">\n",
              "    <path d=\"M0 0h24v24H0V0z\" fill=\"none\"/>\n",
              "    <path d=\"M18.56 5.44l.94 2.06.94-2.06 2.06-.94-2.06-.94-.94-2.06-.94 2.06-2.06.94zm-11 1L8.5 8.5l.94-2.06 2.06-.94-2.06-.94L8.5 2.5l-.94 2.06-2.06.94zm10 10l.94 2.06.94-2.06 2.06-.94-2.06-.94-.94-2.06-.94 2.06-2.06.94z\"/><path d=\"M17.41 7.96l-1.37-1.37c-.4-.4-.92-.59-1.43-.59-.52 0-1.04.2-1.43.59L10.3 9.45l-7.72 7.72c-.78.78-.78 2.05 0 2.83L4 21.41c.39.39.9.59 1.41.59.51 0 1.02-.2 1.41-.59l7.78-7.78 2.81-2.81c.8-.78.8-2.07 0-2.86zM5.41 20L4 18.59l7.72-7.72 1.47 1.35L5.41 20z\"/>\n",
              "  </svg>\n",
              "      </button>\n",
              "      \n",
              "  <style>\n",
              "    .colab-df-container {\n",
              "      display:flex;\n",
              "      flex-wrap:wrap;\n",
              "      gap: 12px;\n",
              "    }\n",
              "\n",
              "    .colab-df-convert {\n",
              "      background-color: #E8F0FE;\n",
              "      border: none;\n",
              "      border-radius: 50%;\n",
              "      cursor: pointer;\n",
              "      display: none;\n",
              "      fill: #1967D2;\n",
              "      height: 32px;\n",
              "      padding: 0 0 0 0;\n",
              "      width: 32px;\n",
              "    }\n",
              "\n",
              "    .colab-df-convert:hover {\n",
              "      background-color: #E2EBFA;\n",
              "      box-shadow: 0px 1px 2px rgba(60, 64, 67, 0.3), 0px 1px 3px 1px rgba(60, 64, 67, 0.15);\n",
              "      fill: #174EA6;\n",
              "    }\n",
              "\n",
              "    [theme=dark] .colab-df-convert {\n",
              "      background-color: #3B4455;\n",
              "      fill: #D2E3FC;\n",
              "    }\n",
              "\n",
              "    [theme=dark] .colab-df-convert:hover {\n",
              "      background-color: #434B5C;\n",
              "      box-shadow: 0px 1px 3px 1px rgba(0, 0, 0, 0.15);\n",
              "      filter: drop-shadow(0px 1px 2px rgba(0, 0, 0, 0.3));\n",
              "      fill: #FFFFFF;\n",
              "    }\n",
              "  </style>\n",
              "\n",
              "      <script>\n",
              "        const buttonEl =\n",
              "          document.querySelector('#df-f741d3a4-e7cd-456d-af81-64a8435df53e button.colab-df-convert');\n",
              "        buttonEl.style.display =\n",
              "          google.colab.kernel.accessAllowed ? 'block' : 'none';\n",
              "\n",
              "        async function convertToInteractive(key) {\n",
              "          const element = document.querySelector('#df-f741d3a4-e7cd-456d-af81-64a8435df53e');\n",
              "          const dataTable =\n",
              "            await google.colab.kernel.invokeFunction('convertToInteractive',\n",
              "                                                     [key], {});\n",
              "          if (!dataTable) return;\n",
              "\n",
              "          const docLinkHtml = 'Like what you see? Visit the ' +\n",
              "            '<a target=\"_blank\" href=https://colab.research.google.com/notebooks/data_table.ipynb>data table notebook</a>'\n",
              "            + ' to learn more about interactive tables.';\n",
              "          element.innerHTML = '';\n",
              "          dataTable['output_type'] = 'display_data';\n",
              "          await google.colab.output.renderOutput(dataTable, element);\n",
              "          const docLink = document.createElement('div');\n",
              "          docLink.innerHTML = docLinkHtml;\n",
              "          element.appendChild(docLink);\n",
              "        }\n",
              "      </script>\n",
              "    </div>\n",
              "  </div>\n",
              "  "
            ]
          },
          "metadata": {},
          "execution_count": 3
        }
      ]
    },
    {
      "cell_type": "markdown",
      "source": [
        "#Naive Bayes#"
      ],
      "metadata": {
        "id": "AhLxEuIU-lLZ"
      }
    },
    {
      "cell_type": "code",
      "source": [
        "X = irisDataset\n",
        "y = irisDataset.iloc[:,-1]"
      ],
      "metadata": {
        "id": "JvtYBfPr-kRr"
      },
      "execution_count": 4,
      "outputs": []
    },
    {
      "cell_type": "code",
      "source": [
        "X_train, X_test, y_train, y_test = train_test_split(X,y, test_size=0.2, shuffle=True)\n",
        "print('N.samples in training set: ', len(X_train))\n",
        "print('N.samples in test set: ', len(X_test))"
      ],
      "metadata": {
        "colab": {
          "base_uri": "https://localhost:8080/"
        },
        "id": "OpQ_szlAeCOX",
        "outputId": "1538c71e-ef0b-44ea-899a-6ef2c81f41d9"
      },
      "execution_count": 5,
      "outputs": [
        {
          "output_type": "stream",
          "name": "stdout",
          "text": [
            "N.samples in training set:  120\n",
            "N.samples in test set:  30\n"
          ]
        }
      ]
    },
    {
      "cell_type": "code",
      "source": [
        "#compute the mean and the variance from the subset divided by class\n",
        "def get_mean_var(X):\n",
        "  means = X.groupby([\"species\"]).mean()\n",
        "  vars = X.groupby([\"species\"]).var()\n",
        "  return means, vars"
      ],
      "metadata": {
        "id": "go7p7ritD7ND"
      },
      "execution_count": 6,
      "outputs": []
    },
    {
      "cell_type": "code",
      "source": [
        "# Gaussian Probability Density Function\n",
        "#calculate probability from gaussian density function\n",
        "#used to compute the probability of a real valued input\n",
        "def GPDF(x,mean,var):\n",
        "  sd = np.sqrt(var)\n",
        "  prob = (np.exp(-1/2 * ((x - mean)/sd)** 2)) / (sd * np.sqrt(2 * np.pi))\n",
        "  return prob\n",
        "\n",
        "#prior probability of P(y)\n",
        "def prior_probability(X):\n",
        "  prior = (X.groupby(\"species\").count() / X.shape[0]).iloc[:,1]\n",
        "  return prior"
      ],
      "metadata": {
        "id": "VB7k5G1rKGmP"
      },
      "execution_count": 7,
      "outputs": []
    },
    {
      "cell_type": "code",
      "source": [
        "def fit(X):\n",
        "\n",
        "  preds = []\n",
        "  means,vars = get_mean_var(X)\n",
        "  classes = np.unique(X[\"species\"].tolist())\n",
        "  prior = prior_probability(X)\n",
        "\n",
        "  for i in X.index:\n",
        "    cls_likelihood = []\n",
        "    instance = X.loc[i]\n",
        "    for cls in classes:\n",
        "      fts_likelihoods = []\n",
        "      fts_likelihoods.append(np.log(prior[cls]))\n",
        "      for col in X.iloc[:,:-1].columns:\n",
        "        data = instance[col]\n",
        "        # find the mean of column 'col' that are in class 'cls'\n",
        "        mean = means[col].loc[cls]\n",
        "        # find the variance of column 'col' that are in class 'cls'\n",
        "        var = vars[col].loc[cls]      \n",
        "        likelihood = GPDF(data, mean, var)\n",
        "        \n",
        "        if likelihood != 0:\n",
        "          likelihood = np.log(likelihood)\n",
        "        else:\n",
        "          likelihood = 1/X.shape[0]\n",
        "\n",
        "        fts_likelihoods.append(likelihood)\n",
        "\n",
        "      # Calculate posterior\n",
        "      tot_like = np.sum(fts_likelihoods)\n",
        "      cls_likelihood.append(tot_like)\n",
        "    # find largest posterior position\n",
        "    max_idx = cls_likelihood.index(np.max(cls_likelihood))\n",
        "    y_pred = classes[max_idx]\n",
        "    preds.append(y_pred)\n",
        "  return preds"
      ],
      "metadata": {
        "id": "UPNqaj2VNn68"
      },
      "execution_count": 8,
      "outputs": []
    },
    {
      "cell_type": "code",
      "source": [
        "#Naive bayes accuracy computation \n",
        "def accuracy(preds,y):\n",
        "  y_true = y.values\n",
        "  tot_correct = np.sum(preds == y_true)\n",
        "  acc = tot_correct / y_true.shape[0]\n",
        "  return acc"
      ],
      "metadata": {
        "id": "M3TJsVsVO0nG"
      },
      "execution_count": 9,
      "outputs": []
    },
    {
      "cell_type": "code",
      "source": [
        "train_predictions = fit(X_train)\n",
        "#accuracy on training set\n",
        "train_acc = accuracy(train_predictions,y_train)\n",
        "print('Training accuracy: ', train_acc)"
      ],
      "metadata": {
        "colab": {
          "base_uri": "https://localhost:8080/"
        },
        "id": "IZv0RHdpdQY0",
        "outputId": "540ebb78-81a1-4445-e205-2cbeddc76fdc"
      },
      "execution_count": 10,
      "outputs": [
        {
          "output_type": "stream",
          "name": "stdout",
          "text": [
            "Training accuracy:  0.9583333333333334\n"
          ]
        }
      ]
    },
    {
      "cell_type": "markdown",
      "source": [
        "**Test Phase**"
      ],
      "metadata": {
        "id": "Ui9K5Q-BeYO5"
      }
    },
    {
      "cell_type": "code",
      "source": [
        "test_predictions = fit(X_test)\n",
        "#accuracy on training set\n",
        "test_acc = accuracy(test_predictions,y_test)\n",
        "print('Test accuracy: ', test_acc)"
      ],
      "metadata": {
        "colab": {
          "base_uri": "https://localhost:8080/"
        },
        "id": "zCx4PIGEeab5",
        "outputId": "bc03c15c-2c8f-4685-a553-089870adde01"
      },
      "execution_count": 11,
      "outputs": [
        {
          "output_type": "stream",
          "name": "stdout",
          "text": [
            "Test accuracy:  0.9666666666666667\n"
          ]
        }
      ]
    },
    {
      "cell_type": "markdown",
      "source": [
        "*Comparison with Sklearn model*"
      ],
      "metadata": {
        "id": "gpeyL2dTku_4"
      }
    },
    {
      "cell_type": "code",
      "source": [
        "X_train1, X_test1, y_train1, y_test1 = train_test_split(X,y, test_size=0.2, shuffle=True)\n",
        "X_train1 = X_train1.drop(\"species\", axis = 1)\n",
        "X_test1 = X_test1.drop(\"species\", axis = 1)"
      ],
      "metadata": {
        "id": "_RyewkfYk5Sl"
      },
      "execution_count": 12,
      "outputs": []
    },
    {
      "cell_type": "code",
      "source": [
        "from sklearn.naive_bayes import GaussianNB\n",
        "\n",
        "sk_naiveBayes = GaussianNB()\n",
        "sk_naiveBayes.fit(X_train1, y_train1)\n",
        "sk_train_preds = sk_naiveBayes.predict(X_train1)\n",
        "sk_test_preds = sk_naiveBayes.predict(X_test1)\n",
        "\n",
        "#train accuracy\n",
        "sk_train_acc = accuracy(sk_train_preds,y_train1)\n",
        "print('Sk learn Naive Bayes training accuracy: ', sk_train_acc)\n",
        "\n",
        "#test accuracy\n",
        "sk_test_acc = accuracy(sk_test_preds,y_test1)\n",
        "print('Sk learn Naive Bayes test accuracy: ', sk_test_acc)"
      ],
      "metadata": {
        "colab": {
          "base_uri": "https://localhost:8080/"
        },
        "id": "JD92zPsGkuHs",
        "outputId": "5160f313-560d-45d4-99d4-2ecc07357cf3"
      },
      "execution_count": 13,
      "outputs": [
        {
          "output_type": "stream",
          "name": "stdout",
          "text": [
            "Sk learn Naive Bayes training accuracy:  0.9666666666666667\n",
            "Sk learn Naive Bayes test accuracy:  0.9333333333333333\n"
          ]
        }
      ]
    }
  ]
}