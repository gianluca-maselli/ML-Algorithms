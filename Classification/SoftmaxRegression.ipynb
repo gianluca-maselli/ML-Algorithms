{
  "nbformat": 4,
  "nbformat_minor": 0,
  "metadata": {
    "colab": {
      "name": "SoftmaxRegression.ipynb",
      "provenance": [],
      "collapsed_sections": []
    },
    "kernelspec": {
      "name": "python3",
      "display_name": "Python 3"
    },
    "language_info": {
      "name": "python"
    }
  },
  "cells": [
    {
      "cell_type": "code",
      "execution_count": 1,
      "metadata": {
        "id": "Vz07rtU-jiuH"
      },
      "outputs": [],
      "source": [
        "import pandas as pd\n",
        "import numpy as np\n",
        "import matplotlib.pyplot as plt\n",
        "from sklearn.model_selection import train_test_split\n",
        "import math\n",
        "from sklearn.metrics import confusion_matrix\n",
        "from sklearn.metrics import accuracy_score\n",
        "from sklearn.metrics import classification_report"
      ]
    },
    {
      "cell_type": "code",
      "source": [
        "from google.colab import drive\n",
        "drive.mount('/content/drive')"
      ],
      "metadata": {
        "colab": {
          "base_uri": "https://localhost:8080/"
        },
        "id": "40B0TDV9mUIS",
        "outputId": "df30f63a-454e-48a9-b459-57c1d81a6685"
      },
      "execution_count": 2,
      "outputs": [
        {
          "output_type": "stream",
          "name": "stdout",
          "text": [
            "Drive already mounted at /content/drive; to attempt to forcibly remount, call drive.mount(\"/content/drive\", force_remount=True).\n"
          ]
        }
      ]
    },
    {
      "cell_type": "code",
      "source": [
        "#the dataset aims to predict a certain flower given some input values. It is a multi-class classification problem.\n",
        "irisDataset = pd.read_csv('/content/drive/MyDrive/MachineLearning/datasets/IRIS.csv')\n",
        "irisDataset.head()"
      ],
      "metadata": {
        "colab": {
          "base_uri": "https://localhost:8080/",
          "height": 206
        },
        "id": "m9pZC1THmYXv",
        "outputId": "f54e67ba-b723-47a4-d8a0-ff1c8cc94b06"
      },
      "execution_count": 3,
      "outputs": [
        {
          "output_type": "execute_result",
          "data": {
            "text/plain": [
              "   sepal_length  sepal_width  petal_length  petal_width      species\n",
              "0           5.1          3.5           1.4          0.2  Iris-setosa\n",
              "1           4.9          3.0           1.4          0.2  Iris-setosa\n",
              "2           4.7          3.2           1.3          0.2  Iris-setosa\n",
              "3           4.6          3.1           1.5          0.2  Iris-setosa\n",
              "4           5.0          3.6           1.4          0.2  Iris-setosa"
            ],
            "text/html": [
              "\n",
              "  <div id=\"df-25295487-3327-428c-b109-9be579f52ef7\">\n",
              "    <div class=\"colab-df-container\">\n",
              "      <div>\n",
              "<style scoped>\n",
              "    .dataframe tbody tr th:only-of-type {\n",
              "        vertical-align: middle;\n",
              "    }\n",
              "\n",
              "    .dataframe tbody tr th {\n",
              "        vertical-align: top;\n",
              "    }\n",
              "\n",
              "    .dataframe thead th {\n",
              "        text-align: right;\n",
              "    }\n",
              "</style>\n",
              "<table border=\"1\" class=\"dataframe\">\n",
              "  <thead>\n",
              "    <tr style=\"text-align: right;\">\n",
              "      <th></th>\n",
              "      <th>sepal_length</th>\n",
              "      <th>sepal_width</th>\n",
              "      <th>petal_length</th>\n",
              "      <th>petal_width</th>\n",
              "      <th>species</th>\n",
              "    </tr>\n",
              "  </thead>\n",
              "  <tbody>\n",
              "    <tr>\n",
              "      <th>0</th>\n",
              "      <td>5.1</td>\n",
              "      <td>3.5</td>\n",
              "      <td>1.4</td>\n",
              "      <td>0.2</td>\n",
              "      <td>Iris-setosa</td>\n",
              "    </tr>\n",
              "    <tr>\n",
              "      <th>1</th>\n",
              "      <td>4.9</td>\n",
              "      <td>3.0</td>\n",
              "      <td>1.4</td>\n",
              "      <td>0.2</td>\n",
              "      <td>Iris-setosa</td>\n",
              "    </tr>\n",
              "    <tr>\n",
              "      <th>2</th>\n",
              "      <td>4.7</td>\n",
              "      <td>3.2</td>\n",
              "      <td>1.3</td>\n",
              "      <td>0.2</td>\n",
              "      <td>Iris-setosa</td>\n",
              "    </tr>\n",
              "    <tr>\n",
              "      <th>3</th>\n",
              "      <td>4.6</td>\n",
              "      <td>3.1</td>\n",
              "      <td>1.5</td>\n",
              "      <td>0.2</td>\n",
              "      <td>Iris-setosa</td>\n",
              "    </tr>\n",
              "    <tr>\n",
              "      <th>4</th>\n",
              "      <td>5.0</td>\n",
              "      <td>3.6</td>\n",
              "      <td>1.4</td>\n",
              "      <td>0.2</td>\n",
              "      <td>Iris-setosa</td>\n",
              "    </tr>\n",
              "  </tbody>\n",
              "</table>\n",
              "</div>\n",
              "      <button class=\"colab-df-convert\" onclick=\"convertToInteractive('df-25295487-3327-428c-b109-9be579f52ef7')\"\n",
              "              title=\"Convert this dataframe to an interactive table.\"\n",
              "              style=\"display:none;\">\n",
              "        \n",
              "  <svg xmlns=\"http://www.w3.org/2000/svg\" height=\"24px\"viewBox=\"0 0 24 24\"\n",
              "       width=\"24px\">\n",
              "    <path d=\"M0 0h24v24H0V0z\" fill=\"none\"/>\n",
              "    <path d=\"M18.56 5.44l.94 2.06.94-2.06 2.06-.94-2.06-.94-.94-2.06-.94 2.06-2.06.94zm-11 1L8.5 8.5l.94-2.06 2.06-.94-2.06-.94L8.5 2.5l-.94 2.06-2.06.94zm10 10l.94 2.06.94-2.06 2.06-.94-2.06-.94-.94-2.06-.94 2.06-2.06.94z\"/><path d=\"M17.41 7.96l-1.37-1.37c-.4-.4-.92-.59-1.43-.59-.52 0-1.04.2-1.43.59L10.3 9.45l-7.72 7.72c-.78.78-.78 2.05 0 2.83L4 21.41c.39.39.9.59 1.41.59.51 0 1.02-.2 1.41-.59l7.78-7.78 2.81-2.81c.8-.78.8-2.07 0-2.86zM5.41 20L4 18.59l7.72-7.72 1.47 1.35L5.41 20z\"/>\n",
              "  </svg>\n",
              "      </button>\n",
              "      \n",
              "  <style>\n",
              "    .colab-df-container {\n",
              "      display:flex;\n",
              "      flex-wrap:wrap;\n",
              "      gap: 12px;\n",
              "    }\n",
              "\n",
              "    .colab-df-convert {\n",
              "      background-color: #E8F0FE;\n",
              "      border: none;\n",
              "      border-radius: 50%;\n",
              "      cursor: pointer;\n",
              "      display: none;\n",
              "      fill: #1967D2;\n",
              "      height: 32px;\n",
              "      padding: 0 0 0 0;\n",
              "      width: 32px;\n",
              "    }\n",
              "\n",
              "    .colab-df-convert:hover {\n",
              "      background-color: #E2EBFA;\n",
              "      box-shadow: 0px 1px 2px rgba(60, 64, 67, 0.3), 0px 1px 3px 1px rgba(60, 64, 67, 0.15);\n",
              "      fill: #174EA6;\n",
              "    }\n",
              "\n",
              "    [theme=dark] .colab-df-convert {\n",
              "      background-color: #3B4455;\n",
              "      fill: #D2E3FC;\n",
              "    }\n",
              "\n",
              "    [theme=dark] .colab-df-convert:hover {\n",
              "      background-color: #434B5C;\n",
              "      box-shadow: 0px 1px 3px 1px rgba(0, 0, 0, 0.15);\n",
              "      filter: drop-shadow(0px 1px 2px rgba(0, 0, 0, 0.3));\n",
              "      fill: #FFFFFF;\n",
              "    }\n",
              "  </style>\n",
              "\n",
              "      <script>\n",
              "        const buttonEl =\n",
              "          document.querySelector('#df-25295487-3327-428c-b109-9be579f52ef7 button.colab-df-convert');\n",
              "        buttonEl.style.display =\n",
              "          google.colab.kernel.accessAllowed ? 'block' : 'none';\n",
              "\n",
              "        async function convertToInteractive(key) {\n",
              "          const element = document.querySelector('#df-25295487-3327-428c-b109-9be579f52ef7');\n",
              "          const dataTable =\n",
              "            await google.colab.kernel.invokeFunction('convertToInteractive',\n",
              "                                                     [key], {});\n",
              "          if (!dataTable) return;\n",
              "\n",
              "          const docLinkHtml = 'Like what you see? Visit the ' +\n",
              "            '<a target=\"_blank\" href=https://colab.research.google.com/notebooks/data_table.ipynb>data table notebook</a>'\n",
              "            + ' to learn more about interactive tables.';\n",
              "          element.innerHTML = '';\n",
              "          dataTable['output_type'] = 'display_data';\n",
              "          await google.colab.output.renderOutput(dataTable, element);\n",
              "          const docLink = document.createElement('div');\n",
              "          docLink.innerHTML = docLinkHtml;\n",
              "          element.appendChild(docLink);\n",
              "        }\n",
              "      </script>\n",
              "    </div>\n",
              "  </div>\n",
              "  "
            ]
          },
          "metadata": {},
          "execution_count": 3
        }
      ]
    },
    {
      "cell_type": "code",
      "source": [
        "#normalization\n",
        "X_data = irisDataset.iloc[:,:-1]\n",
        "y_data = irisDataset.loc[:,'species'].values\n",
        "X_data=(X_data-X_data.min())/(X_data.max()-X_data.min())\n",
        "X_data.insert(X_data.shape[1],'species',y_data)\n",
        "X_data.head()\n",
        "#for sklearn model used at the end\n",
        "X1_data = X_data"
      ],
      "metadata": {
        "id": "oEcGppdbmwau"
      },
      "execution_count": 4,
      "outputs": []
    },
    {
      "cell_type": "markdown",
      "source": [
        "**One-hot encoding**"
      ],
      "metadata": {
        "id": "KFenB1_Pgb-N"
      }
    },
    {
      "cell_type": "code",
      "source": [
        "#One-Hot encoding the categorical parameters using get_dummies()\n",
        "X_data = pd.get_dummies(X_data, columns = ['species'])\n",
        "X_data.head()"
      ],
      "metadata": {
        "colab": {
          "base_uri": "https://localhost:8080/",
          "height": 206
        },
        "id": "iVMYms87rM6r",
        "outputId": "1323c18e-64fc-4601-99ce-0a4202e7c0ac"
      },
      "execution_count": 5,
      "outputs": [
        {
          "output_type": "execute_result",
          "data": {
            "text/plain": [
              "   sepal_length  sepal_width  petal_length  petal_width  species_Iris-setosa  \\\n",
              "0      0.222222     0.625000      0.067797     0.041667                    1   \n",
              "1      0.166667     0.416667      0.067797     0.041667                    1   \n",
              "2      0.111111     0.500000      0.050847     0.041667                    1   \n",
              "3      0.083333     0.458333      0.084746     0.041667                    1   \n",
              "4      0.194444     0.666667      0.067797     0.041667                    1   \n",
              "\n",
              "   species_Iris-versicolor  species_Iris-virginica  \n",
              "0                        0                       0  \n",
              "1                        0                       0  \n",
              "2                        0                       0  \n",
              "3                        0                       0  \n",
              "4                        0                       0  "
            ],
            "text/html": [
              "\n",
              "  <div id=\"df-56280850-898f-4324-88d2-c9becd61518a\">\n",
              "    <div class=\"colab-df-container\">\n",
              "      <div>\n",
              "<style scoped>\n",
              "    .dataframe tbody tr th:only-of-type {\n",
              "        vertical-align: middle;\n",
              "    }\n",
              "\n",
              "    .dataframe tbody tr th {\n",
              "        vertical-align: top;\n",
              "    }\n",
              "\n",
              "    .dataframe thead th {\n",
              "        text-align: right;\n",
              "    }\n",
              "</style>\n",
              "<table border=\"1\" class=\"dataframe\">\n",
              "  <thead>\n",
              "    <tr style=\"text-align: right;\">\n",
              "      <th></th>\n",
              "      <th>sepal_length</th>\n",
              "      <th>sepal_width</th>\n",
              "      <th>petal_length</th>\n",
              "      <th>petal_width</th>\n",
              "      <th>species_Iris-setosa</th>\n",
              "      <th>species_Iris-versicolor</th>\n",
              "      <th>species_Iris-virginica</th>\n",
              "    </tr>\n",
              "  </thead>\n",
              "  <tbody>\n",
              "    <tr>\n",
              "      <th>0</th>\n",
              "      <td>0.222222</td>\n",
              "      <td>0.625000</td>\n",
              "      <td>0.067797</td>\n",
              "      <td>0.041667</td>\n",
              "      <td>1</td>\n",
              "      <td>0</td>\n",
              "      <td>0</td>\n",
              "    </tr>\n",
              "    <tr>\n",
              "      <th>1</th>\n",
              "      <td>0.166667</td>\n",
              "      <td>0.416667</td>\n",
              "      <td>0.067797</td>\n",
              "      <td>0.041667</td>\n",
              "      <td>1</td>\n",
              "      <td>0</td>\n",
              "      <td>0</td>\n",
              "    </tr>\n",
              "    <tr>\n",
              "      <th>2</th>\n",
              "      <td>0.111111</td>\n",
              "      <td>0.500000</td>\n",
              "      <td>0.050847</td>\n",
              "      <td>0.041667</td>\n",
              "      <td>1</td>\n",
              "      <td>0</td>\n",
              "      <td>0</td>\n",
              "    </tr>\n",
              "    <tr>\n",
              "      <th>3</th>\n",
              "      <td>0.083333</td>\n",
              "      <td>0.458333</td>\n",
              "      <td>0.084746</td>\n",
              "      <td>0.041667</td>\n",
              "      <td>1</td>\n",
              "      <td>0</td>\n",
              "      <td>0</td>\n",
              "    </tr>\n",
              "    <tr>\n",
              "      <th>4</th>\n",
              "      <td>0.194444</td>\n",
              "      <td>0.666667</td>\n",
              "      <td>0.067797</td>\n",
              "      <td>0.041667</td>\n",
              "      <td>1</td>\n",
              "      <td>0</td>\n",
              "      <td>0</td>\n",
              "    </tr>\n",
              "  </tbody>\n",
              "</table>\n",
              "</div>\n",
              "      <button class=\"colab-df-convert\" onclick=\"convertToInteractive('df-56280850-898f-4324-88d2-c9becd61518a')\"\n",
              "              title=\"Convert this dataframe to an interactive table.\"\n",
              "              style=\"display:none;\">\n",
              "        \n",
              "  <svg xmlns=\"http://www.w3.org/2000/svg\" height=\"24px\"viewBox=\"0 0 24 24\"\n",
              "       width=\"24px\">\n",
              "    <path d=\"M0 0h24v24H0V0z\" fill=\"none\"/>\n",
              "    <path d=\"M18.56 5.44l.94 2.06.94-2.06 2.06-.94-2.06-.94-.94-2.06-.94 2.06-2.06.94zm-11 1L8.5 8.5l.94-2.06 2.06-.94-2.06-.94L8.5 2.5l-.94 2.06-2.06.94zm10 10l.94 2.06.94-2.06 2.06-.94-2.06-.94-.94-2.06-.94 2.06-2.06.94z\"/><path d=\"M17.41 7.96l-1.37-1.37c-.4-.4-.92-.59-1.43-.59-.52 0-1.04.2-1.43.59L10.3 9.45l-7.72 7.72c-.78.78-.78 2.05 0 2.83L4 21.41c.39.39.9.59 1.41.59.51 0 1.02-.2 1.41-.59l7.78-7.78 2.81-2.81c.8-.78.8-2.07 0-2.86zM5.41 20L4 18.59l7.72-7.72 1.47 1.35L5.41 20z\"/>\n",
              "  </svg>\n",
              "      </button>\n",
              "      \n",
              "  <style>\n",
              "    .colab-df-container {\n",
              "      display:flex;\n",
              "      flex-wrap:wrap;\n",
              "      gap: 12px;\n",
              "    }\n",
              "\n",
              "    .colab-df-convert {\n",
              "      background-color: #E8F0FE;\n",
              "      border: none;\n",
              "      border-radius: 50%;\n",
              "      cursor: pointer;\n",
              "      display: none;\n",
              "      fill: #1967D2;\n",
              "      height: 32px;\n",
              "      padding: 0 0 0 0;\n",
              "      width: 32px;\n",
              "    }\n",
              "\n",
              "    .colab-df-convert:hover {\n",
              "      background-color: #E2EBFA;\n",
              "      box-shadow: 0px 1px 2px rgba(60, 64, 67, 0.3), 0px 1px 3px 1px rgba(60, 64, 67, 0.15);\n",
              "      fill: #174EA6;\n",
              "    }\n",
              "\n",
              "    [theme=dark] .colab-df-convert {\n",
              "      background-color: #3B4455;\n",
              "      fill: #D2E3FC;\n",
              "    }\n",
              "\n",
              "    [theme=dark] .colab-df-convert:hover {\n",
              "      background-color: #434B5C;\n",
              "      box-shadow: 0px 1px 3px 1px rgba(0, 0, 0, 0.15);\n",
              "      filter: drop-shadow(0px 1px 2px rgba(0, 0, 0, 0.3));\n",
              "      fill: #FFFFFF;\n",
              "    }\n",
              "  </style>\n",
              "\n",
              "      <script>\n",
              "        const buttonEl =\n",
              "          document.querySelector('#df-56280850-898f-4324-88d2-c9becd61518a button.colab-df-convert');\n",
              "        buttonEl.style.display =\n",
              "          google.colab.kernel.accessAllowed ? 'block' : 'none';\n",
              "\n",
              "        async function convertToInteractive(key) {\n",
              "          const element = document.querySelector('#df-56280850-898f-4324-88d2-c9becd61518a');\n",
              "          const dataTable =\n",
              "            await google.colab.kernel.invokeFunction('convertToInteractive',\n",
              "                                                     [key], {});\n",
              "          if (!dataTable) return;\n",
              "\n",
              "          const docLinkHtml = 'Like what you see? Visit the ' +\n",
              "            '<a target=\"_blank\" href=https://colab.research.google.com/notebooks/data_table.ipynb>data table notebook</a>'\n",
              "            + ' to learn more about interactive tables.';\n",
              "          element.innerHTML = '';\n",
              "          dataTable['output_type'] = 'display_data';\n",
              "          await google.colab.output.renderOutput(dataTable, element);\n",
              "          const docLink = document.createElement('div');\n",
              "          docLink.innerHTML = docLinkHtml;\n",
              "          element.appendChild(docLink);\n",
              "        }\n",
              "      </script>\n",
              "    </div>\n",
              "  </div>\n",
              "  "
            ]
          },
          "metadata": {},
          "execution_count": 5
        }
      ]
    },
    {
      "cell_type": "markdown",
      "source": [
        "#Softmax Regression#"
      ],
      "metadata": {
        "id": "N0k7Exy4hp7C"
      }
    },
    {
      "cell_type": "code",
      "source": [
        "X_data = X_data.values"
      ],
      "metadata": {
        "id": "df6aukmhwZjk"
      },
      "execution_count": 6,
      "outputs": []
    },
    {
      "cell_type": "code",
      "source": [
        "X_train, X_test, y_train, y_test = train_test_split(X_data[:,:-3],X_data[:,4:X_data.shape[1]], test_size=0.2, shuffle=True)\n",
        "print('N.samples in training set: ', len(X_train))\n",
        "print('N.samples in test set: ', len(X_test))"
      ],
      "metadata": {
        "id": "QNAhc7DdKNwj",
        "colab": {
          "base_uri": "https://localhost:8080/"
        },
        "outputId": "8740ea6b-cfc8-45e1-b03a-c818bfee3716"
      },
      "execution_count": 7,
      "outputs": [
        {
          "output_type": "stream",
          "name": "stdout",
          "text": [
            "N.samples in training set:  120\n",
            "N.samples in test set:  30\n"
          ]
        }
      ]
    },
    {
      "cell_type": "code",
      "source": [
        "def multi_regs(weights,bias,x_i):\n",
        "  logR_out = bias + np.dot(x_i,weights)\n",
        "  return logR_out\n",
        "\n",
        "def softmax(logR_out):\n",
        "  exp = np.exp(logR_out - np.max(logR_out))\n",
        "  for i in range(len(logR_out)):\n",
        "        exp[i] /= np.sum(exp[i])\n",
        "  \n",
        "  return exp\n",
        "\n",
        "def cross_entropy_loss(y_pred,y_true):\n",
        "  loss= - np.sum(y_true*np.log(y_pred))\n",
        "  c_e_l = loss/float(y_pred.shape[0])\n",
        "  return c_e_l\n",
        "\n",
        "\n",
        "def GD(X,y,lr,n_epochs):\n",
        "  n_samples, n_inputs = X.shape\n",
        "  n_classes = y.shape[1]\n",
        "\n",
        "  accs_scores = []\n",
        "  losses = []\n",
        "\n",
        "  weights = np.zeros((n_inputs, n_classes))\n",
        "  bias = np.zeros(n_classes)\n",
        "\n",
        "  for epoch in range(n_epochs):\n",
        "    sum_loss = 0\n",
        "    tot_correct = 0\n",
        "    logR_out = multi_regs(weights,bias,X)\n",
        "    y_pred = softmax(logR_out)\n",
        "    #paramters updating\n",
        "    error = y - y_pred\n",
        "    weights = weights + lr*np.dot(X.T,error)\n",
        "    bias = bias + lr*np.sum(error)\n",
        "    \n",
        "    #training accuracy computation \n",
        "    max_index_pred = np.argmax(y_pred,axis=1)\n",
        "    max_index_true = np.argmax(y,axis=1)\n",
        "    tot_correct = np.sum(max_index_pred == max_index_true)\n",
        "    \n",
        "    #loss computation\n",
        "    loss = cross_entropy_loss(y_pred,y)\n",
        "    epoch_acc = tot_correct/len(y)\n",
        "    accs_scores.append(epoch_acc)\n",
        "    losses.append(loss)\n",
        "    #to print metrics at every epoch\n",
        "    #print(f'Epoch {epoch+1}, loss: {loss}, accuracy: {epoch_acc}')\n",
        "  return weights,bias,accs_scores,losses\n",
        "\n",
        "lr = 0.03\n",
        "n_epochs = 1000\n",
        "# use classic GD gradient descent where all the dataset is considered. \n",
        "weights,bias,accs_scores,losses = GD(X_train,y_train,lr,n_epochs)"
      ],
      "metadata": {
        "id": "4GYF6Jv-hsf0"
      },
      "execution_count": 8,
      "outputs": []
    },
    {
      "cell_type": "markdown",
      "source": [
        "**Plot Training loss and accuracy**"
      ],
      "metadata": {
        "id": "R9co4LxzOZjq"
      }
    },
    {
      "cell_type": "code",
      "source": [
        "n_epoches = [x for x in range(0,n_epochs)]\n",
        "fig, (ax1, ax2) = plt.subplots(1, 2, figsize=(18,6))\n",
        "ax1.plot(n_epoches,losses)\n",
        "ax1.set_xlabel('Epoches')\n",
        "ax1.set_ylabel('error')\n",
        "ax1.set_title('Cross-entropy loss')\n",
        "\n",
        "ax2.plot(n_epoches,accs_scores)\n",
        "ax2.set_xlabel('Epoches')\n",
        "ax2.set_ylabel('accuracy')\n",
        "ax2.set_title('training accuracy')\n",
        "plt.show()"
      ],
      "metadata": {
        "colab": {
          "base_uri": "https://localhost:8080/",
          "height": 404
        },
        "id": "e5T-tPYQOicH",
        "outputId": "ed3e82a8-39d3-4ecd-a46b-3c548f19cda0"
      },
      "execution_count": 9,
      "outputs": [
        {
          "output_type": "display_data",
          "data": {
            "text/plain": [
              "<Figure size 1296x432 with 2 Axes>"
            ],
            "image/png": "[encoded data removed]"
          },
          "metadata": {
            "needs_background": "light"
          }
        }
      ]
    },
    {
      "cell_type": "markdown",
      "source": [
        "**Test Phase**"
      ],
      "metadata": {
        "id": "UckpSaviDb-o"
      }
    },
    {
      "cell_type": "code",
      "source": [
        "def predictions(weights,bias,x_i,):\n",
        "  multi_out = bias+np.dot(x_i,weights)\n",
        "  preds = softmax(multi_out)\n",
        "  max = np.argmax(preds,axis=1)\n",
        "  return max"
      ],
      "metadata": {
        "id": "YszFCcW_GobK"
      },
      "execution_count": 10,
      "outputs": []
    },
    {
      "cell_type": "code",
      "source": [
        "test_correct = 0\n",
        "max_idx = predictions(weights,bias,X_test)\n",
        "max_true = np.argmax(y_test,axis=1)\n",
        "correct_test = np.sum(max_idx == max_true)\n",
        "print('Model accuracy: ', correct_test /float(len(y_test)))"
      ],
      "metadata": {
        "colab": {
          "base_uri": "https://localhost:8080/"
        },
        "id": "mmz8GRHhDeOy",
        "outputId": "e4e7bd02-cda2-4d97-da97-1cc1d245ea84"
      },
      "execution_count": 11,
      "outputs": [
        {
          "output_type": "stream",
          "name": "stdout",
          "text": [
            "Model accuracy:  0.8333333333333334\n"
          ]
        }
      ]
    },
    {
      "cell_type": "markdown",
      "source": [
        "*comparison with the SKlearn Model*"
      ],
      "metadata": {
        "id": "XYC8ddjfIHcu"
      }
    },
    {
      "cell_type": "code",
      "source": [
        "X1_data = X1_data.values"
      ],
      "metadata": {
        "id": "BIrunDFhNoyN"
      },
      "execution_count": 5,
      "outputs": []
    },
    {
      "cell_type": "code",
      "source": [
        "X1_train, X1_test, y1_train, y1_test = train_test_split(X1_data[:,:-1],X1_data[:,4:X_data.shape[1]], test_size=0.2, shuffle=True)\n",
        "print('N.samples in training set: ', len(X1_train))\n",
        "print('N.samples in test set: ', len(X1_test))"
      ],
      "metadata": {
        "colab": {
          "base_uri": "https://localhost:8080/"
        },
        "id": "mjNCaaffNn3Z",
        "outputId": "16414286-d44b-4421-fa22-71cf7c715421"
      },
      "execution_count": 7,
      "outputs": [
        {
          "output_type": "stream",
          "name": "stdout",
          "text": [
            "N.samples in training set:  120\n",
            "N.samples in test set:  30\n"
          ]
        }
      ]
    },
    {
      "cell_type": "code",
      "source": [
        "from sklearn.linear_model import LogisticRegression\n",
        "LR = LogisticRegression(multi_class='multinomial', solver='lbfgs')\n",
        "y_tr = y1_train.ravel()\n",
        "LR.fit(X1_train, y_tr)\n",
        "y_t = y1_test.ravel()\n",
        "score = LR.score(X1_test, y_t)\n",
        "print('Sklearn Model accuracy: ', score)"
      ],
      "metadata": {
        "colab": {
          "base_uri": "https://localhost:8080/"
        },
        "id": "5Mx8joqQILlD",
        "outputId": "8305f642-65e6-4fd0-85e6-01e5e1c4a91f"
      },
      "execution_count": 8,
      "outputs": [
        {
          "output_type": "stream",
          "name": "stdout",
          "text": [
            "Sklearn Model accuracy:  0.9\n"
          ]
        }
      ]
    }
  ]
}