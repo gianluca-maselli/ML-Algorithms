{
  "nbformat": 4,
  "nbformat_minor": 0,
  "metadata": {
    "colab": {
      "name": "LogisticRegression.ipynb",
      "provenance": [],
      "collapsed_sections": [
        "Z8wTXZ61pqfN"
      ]
    },
    "kernelspec": {
      "name": "python3",
      "display_name": "Python 3"
    },
    "language_info": {
      "name": "python"
    }
  },
  "cells": [
    {
      "cell_type": "code",
      "execution_count": 1,
      "metadata": {
        "id": "goG-Cxp9MDog"
      },
      "outputs": [],
      "source": [
        "import pandas as pd\n",
        "import numpy as np\n",
        "import matplotlib.pyplot as plt\n",
        "from sklearn.model_selection import train_test_split\n",
        "import math\n",
        "from sklearn.metrics import confusion_matrix\n",
        "from sklearn.metrics import accuracy_score\n",
        "from sklearn.metrics import classification_report"
      ]
    },
    {
      "cell_type": "code",
      "source": [
        "from google.colab import drive\n",
        "drive.mount('/content/drive')"
      ],
      "metadata": {
        "colab": {
          "base_uri": "https://localhost:8080/"
        },
        "id": "poee_txFMRwr",
        "outputId": "5e49d2b2-e105-4675-f8b2-cf2e60811a3f"
      },
      "execution_count": 2,
      "outputs": [
        {
          "output_type": "stream",
          "name": "stdout",
          "text": [
            "Mounted at /content/drive\n"
          ]
        }
      ]
    },
    {
      "cell_type": "code",
      "source": [
        "#the dataset aims to predict the whether a given banknote is authentic given a number of measures taken from a photograph. \n",
        "#it is a binary classification problem where 0 is the label for an authentic banknote while 1 for a fake one.\n",
        "banknoteData = pd.read_csv('/content/drive/MyDrive/MachineLearning/datasets/data_banknote_authentication.csv')\n",
        "banknoteData.head()"
      ],
      "metadata": {
        "id": "T4QvjN9WMSyC",
        "colab": {
          "base_uri": "https://localhost:8080/",
          "height": 206
        },
        "outputId": "0bc35aea-1b78-4d1a-da65-e7bfeb6b7ad9"
      },
      "execution_count": 3,
      "outputs": [
        {
          "output_type": "execute_result",
          "data": {
            "text/plain": [
              "   Variance of Wavelet Transformed image  \\\n",
              "0                                3.62160   \n",
              "1                                4.54590   \n",
              "2                                3.86600   \n",
              "3                                3.45660   \n",
              "4                                0.32924   \n",
              "\n",
              "   Skewness of Wavelet Transformed image  \\\n",
              "0                                 8.6661   \n",
              "1                                 8.1674   \n",
              "2                                -2.6383   \n",
              "3                                 9.5228   \n",
              "4                                -4.4552   \n",
              "\n",
              "   Kurtosis of Wavelet Transformed image  Entropy of image  Class  \n",
              "0                                -2.8073          -0.44699      0  \n",
              "1                                -2.4586          -1.46210      0  \n",
              "2                                 1.9242           0.10645      0  \n",
              "3                                -4.0112          -3.59440      0  \n",
              "4                                 4.5718          -0.98880      0  "
            ],
            "text/html": [
              "\n",
              "  <div id=\"df-5882e043-7ea6-4c8e-890c-e5286250f1ad\">\n",
              "    <div class=\"colab-df-container\">\n",
              "      <div>\n",
              "<style scoped>\n",
              "    .dataframe tbody tr th:only-of-type {\n",
              "        vertical-align: middle;\n",
              "    }\n",
              "\n",
              "    .dataframe tbody tr th {\n",
              "        vertical-align: top;\n",
              "    }\n",
              "\n",
              "    .dataframe thead th {\n",
              "        text-align: right;\n",
              "    }\n",
              "</style>\n",
              "<table border=\"1\" class=\"dataframe\">\n",
              "  <thead>\n",
              "    <tr style=\"text-align: right;\">\n",
              "      <th></th>\n",
              "      <th>Variance of Wavelet Transformed image</th>\n",
              "      <th>Skewness of Wavelet Transformed image</th>\n",
              "      <th>Kurtosis of Wavelet Transformed image</th>\n",
              "      <th>Entropy of image</th>\n",
              "      <th>Class</th>\n",
              "    </tr>\n",
              "  </thead>\n",
              "  <tbody>\n",
              "    <tr>\n",
              "      <th>0</th>\n",
              "      <td>3.62160</td>\n",
              "      <td>8.6661</td>\n",
              "      <td>-2.8073</td>\n",
              "      <td>-0.44699</td>\n",
              "      <td>0</td>\n",
              "    </tr>\n",
              "    <tr>\n",
              "      <th>1</th>\n",
              "      <td>4.54590</td>\n",
              "      <td>8.1674</td>\n",
              "      <td>-2.4586</td>\n",
              "      <td>-1.46210</td>\n",
              "      <td>0</td>\n",
              "    </tr>\n",
              "    <tr>\n",
              "      <th>2</th>\n",
              "      <td>3.86600</td>\n",
              "      <td>-2.6383</td>\n",
              "      <td>1.9242</td>\n",
              "      <td>0.10645</td>\n",
              "      <td>0</td>\n",
              "    </tr>\n",
              "    <tr>\n",
              "      <th>3</th>\n",
              "      <td>3.45660</td>\n",
              "      <td>9.5228</td>\n",
              "      <td>-4.0112</td>\n",
              "      <td>-3.59440</td>\n",
              "      <td>0</td>\n",
              "    </tr>\n",
              "    <tr>\n",
              "      <th>4</th>\n",
              "      <td>0.32924</td>\n",
              "      <td>-4.4552</td>\n",
              "      <td>4.5718</td>\n",
              "      <td>-0.98880</td>\n",
              "      <td>0</td>\n",
              "    </tr>\n",
              "  </tbody>\n",
              "</table>\n",
              "</div>\n",
              "      <button class=\"colab-df-convert\" onclick=\"convertToInteractive('df-5882e043-7ea6-4c8e-890c-e5286250f1ad')\"\n",
              "              title=\"Convert this dataframe to an interactive table.\"\n",
              "              style=\"display:none;\">\n",
              "        \n",
              "  <svg xmlns=\"http://www.w3.org/2000/svg\" height=\"24px\"viewBox=\"0 0 24 24\"\n",
              "       width=\"24px\">\n",
              "    <path d=\"M0 0h24v24H0V0z\" fill=\"none\"/>\n",
              "    <path d=\"M18.56 5.44l.94 2.06.94-2.06 2.06-.94-2.06-.94-.94-2.06-.94 2.06-2.06.94zm-11 1L8.5 8.5l.94-2.06 2.06-.94-2.06-.94L8.5 2.5l-.94 2.06-2.06.94zm10 10l.94 2.06.94-2.06 2.06-.94-2.06-.94-.94-2.06-.94 2.06-2.06.94z\"/><path d=\"M17.41 7.96l-1.37-1.37c-.4-.4-.92-.59-1.43-.59-.52 0-1.04.2-1.43.59L10.3 9.45l-7.72 7.72c-.78.78-.78 2.05 0 2.83L4 21.41c.39.39.9.59 1.41.59.51 0 1.02-.2 1.41-.59l7.78-7.78 2.81-2.81c.8-.78.8-2.07 0-2.86zM5.41 20L4 18.59l7.72-7.72 1.47 1.35L5.41 20z\"/>\n",
              "  </svg>\n",
              "      </button>\n",
              "      \n",
              "  <style>\n",
              "    .colab-df-container {\n",
              "      display:flex;\n",
              "      flex-wrap:wrap;\n",
              "      gap: 12px;\n",
              "    }\n",
              "\n",
              "    .colab-df-convert {\n",
              "      background-color: #E8F0FE;\n",
              "      border: none;\n",
              "      border-radius: 50%;\n",
              "      cursor: pointer;\n",
              "      display: none;\n",
              "      fill: #1967D2;\n",
              "      height: 32px;\n",
              "      padding: 0 0 0 0;\n",
              "      width: 32px;\n",
              "    }\n",
              "\n",
              "    .colab-df-convert:hover {\n",
              "      background-color: #E2EBFA;\n",
              "      box-shadow: 0px 1px 2px rgba(60, 64, 67, 0.3), 0px 1px 3px 1px rgba(60, 64, 67, 0.15);\n",
              "      fill: #174EA6;\n",
              "    }\n",
              "\n",
              "    [theme=dark] .colab-df-convert {\n",
              "      background-color: #3B4455;\n",
              "      fill: #D2E3FC;\n",
              "    }\n",
              "\n",
              "    [theme=dark] .colab-df-convert:hover {\n",
              "      background-color: #434B5C;\n",
              "      box-shadow: 0px 1px 3px 1px rgba(0, 0, 0, 0.15);\n",
              "      filter: drop-shadow(0px 1px 2px rgba(0, 0, 0, 0.3));\n",
              "      fill: #FFFFFF;\n",
              "    }\n",
              "  </style>\n",
              "\n",
              "      <script>\n",
              "        const buttonEl =\n",
              "          document.querySelector('#df-5882e043-7ea6-4c8e-890c-e5286250f1ad button.colab-df-convert');\n",
              "        buttonEl.style.display =\n",
              "          google.colab.kernel.accessAllowed ? 'block' : 'none';\n",
              "\n",
              "        async function convertToInteractive(key) {\n",
              "          const element = document.querySelector('#df-5882e043-7ea6-4c8e-890c-e5286250f1ad');\n",
              "          const dataTable =\n",
              "            await google.colab.kernel.invokeFunction('convertToInteractive',\n",
              "                                                     [key], {});\n",
              "          if (!dataTable) return;\n",
              "\n",
              "          const docLinkHtml = 'Like what you see? Visit the ' +\n",
              "            '<a target=\"_blank\" href=https://colab.research.google.com/notebooks/data_table.ipynb>data table notebook</a>'\n",
              "            + ' to learn more about interactive tables.';\n",
              "          element.innerHTML = '';\n",
              "          dataTable['output_type'] = 'display_data';\n",
              "          await google.colab.output.renderOutput(dataTable, element);\n",
              "          const docLink = document.createElement('div');\n",
              "          docLink.innerHTML = docLinkHtml;\n",
              "          element.appendChild(docLink);\n",
              "        }\n",
              "      </script>\n",
              "    </div>\n",
              "  </div>\n",
              "  "
            ]
          },
          "metadata": {},
          "execution_count": 3
        }
      ]
    },
    {
      "cell_type": "code",
      "source": [
        "# To find the correlation among the columns using pearson method\n",
        "#correlation with the variable with itself = 1\n",
        "#The correlation coefficient is +1 in the case of a perfect direct (increasing) linear relationship (correlation), \n",
        "# −1 in the case of a perfect inverse (decreasing) linear relationship (anti-correlation)\n",
        "#the correlation is used to check if multicollinearity is present leading the logistic regression to poor performance. We should remove those variables which are highly correlated.\n",
        "#varibles with correlation value 0.7 and 0.9 are highly correlated. Variables with correlation value between 0.9 and 1 are very highly correlated. \n",
        "banknoteData.corr(method ='pearson')"
      ],
      "metadata": {
        "colab": {
          "base_uri": "https://localhost:8080/",
          "height": 285
        },
        "id": "h0I9NnmJ28xx",
        "outputId": "4c54ed18-d0a4-44ee-969e-1b5104fc4e0e"
      },
      "execution_count": 4,
      "outputs": [
        {
          "output_type": "execute_result",
          "data": {
            "text/plain": [
              "                                       Variance of Wavelet Transformed image  \\\n",
              "Variance of Wavelet Transformed image                               1.000000   \n",
              "Skewness of Wavelet Transformed image                               0.264026   \n",
              "Kurtosis of Wavelet Transformed image                              -0.380850   \n",
              "Entropy of image                                                    0.276817   \n",
              "Class                                                              -0.724843   \n",
              "\n",
              "                                       Skewness of Wavelet Transformed image  \\\n",
              "Variance of Wavelet Transformed image                               0.264026   \n",
              "Skewness of Wavelet Transformed image                               1.000000   \n",
              "Kurtosis of Wavelet Transformed image                              -0.786895   \n",
              "Entropy of image                                                   -0.526321   \n",
              "Class                                                              -0.444688   \n",
              "\n",
              "                                       Kurtosis of Wavelet Transformed image  \\\n",
              "Variance of Wavelet Transformed image                              -0.380850   \n",
              "Skewness of Wavelet Transformed image                              -0.786895   \n",
              "Kurtosis of Wavelet Transformed image                               1.000000   \n",
              "Entropy of image                                                    0.318841   \n",
              "Class                                                               0.155883   \n",
              "\n",
              "                                       Entropy of image     Class  \n",
              "Variance of Wavelet Transformed image          0.276817 -0.724843  \n",
              "Skewness of Wavelet Transformed image         -0.526321 -0.444688  \n",
              "Kurtosis of Wavelet Transformed image          0.318841  0.155883  \n",
              "Entropy of image                               1.000000 -0.023424  \n",
              "Class                                         -0.023424  1.000000  "
            ],
            "text/html": [
              "\n",
              "  <div id=\"df-002b0293-aa56-4634-b2f2-752db26018fa\">\n",
              "    <div class=\"colab-df-container\">\n",
              "      <div>\n",
              "<style scoped>\n",
              "    .dataframe tbody tr th:only-of-type {\n",
              "        vertical-align: middle;\n",
              "    }\n",
              "\n",
              "    .dataframe tbody tr th {\n",
              "        vertical-align: top;\n",
              "    }\n",
              "\n",
              "    .dataframe thead th {\n",
              "        text-align: right;\n",
              "    }\n",
              "</style>\n",
              "<table border=\"1\" class=\"dataframe\">\n",
              "  <thead>\n",
              "    <tr style=\"text-align: right;\">\n",
              "      <th></th>\n",
              "      <th>Variance of Wavelet Transformed image</th>\n",
              "      <th>Skewness of Wavelet Transformed image</th>\n",
              "      <th>Kurtosis of Wavelet Transformed image</th>\n",
              "      <th>Entropy of image</th>\n",
              "      <th>Class</th>\n",
              "    </tr>\n",
              "  </thead>\n",
              "  <tbody>\n",
              "    <tr>\n",
              "      <th>Variance of Wavelet Transformed image</th>\n",
              "      <td>1.000000</td>\n",
              "      <td>0.264026</td>\n",
              "      <td>-0.380850</td>\n",
              "      <td>0.276817</td>\n",
              "      <td>-0.724843</td>\n",
              "    </tr>\n",
              "    <tr>\n",
              "      <th>Skewness of Wavelet Transformed image</th>\n",
              "      <td>0.264026</td>\n",
              "      <td>1.000000</td>\n",
              "      <td>-0.786895</td>\n",
              "      <td>-0.526321</td>\n",
              "      <td>-0.444688</td>\n",
              "    </tr>\n",
              "    <tr>\n",
              "      <th>Kurtosis of Wavelet Transformed image</th>\n",
              "      <td>-0.380850</td>\n",
              "      <td>-0.786895</td>\n",
              "      <td>1.000000</td>\n",
              "      <td>0.318841</td>\n",
              "      <td>0.155883</td>\n",
              "    </tr>\n",
              "    <tr>\n",
              "      <th>Entropy of image</th>\n",
              "      <td>0.276817</td>\n",
              "      <td>-0.526321</td>\n",
              "      <td>0.318841</td>\n",
              "      <td>1.000000</td>\n",
              "      <td>-0.023424</td>\n",
              "    </tr>\n",
              "    <tr>\n",
              "      <th>Class</th>\n",
              "      <td>-0.724843</td>\n",
              "      <td>-0.444688</td>\n",
              "      <td>0.155883</td>\n",
              "      <td>-0.023424</td>\n",
              "      <td>1.000000</td>\n",
              "    </tr>\n",
              "  </tbody>\n",
              "</table>\n",
              "</div>\n",
              "      <button class=\"colab-df-convert\" onclick=\"convertToInteractive('df-002b0293-aa56-4634-b2f2-752db26018fa')\"\n",
              "              title=\"Convert this dataframe to an interactive table.\"\n",
              "              style=\"display:none;\">\n",
              "        \n",
              "  <svg xmlns=\"http://www.w3.org/2000/svg\" height=\"24px\"viewBox=\"0 0 24 24\"\n",
              "       width=\"24px\">\n",
              "    <path d=\"M0 0h24v24H0V0z\" fill=\"none\"/>\n",
              "    <path d=\"M18.56 5.44l.94 2.06.94-2.06 2.06-.94-2.06-.94-.94-2.06-.94 2.06-2.06.94zm-11 1L8.5 8.5l.94-2.06 2.06-.94-2.06-.94L8.5 2.5l-.94 2.06-2.06.94zm10 10l.94 2.06.94-2.06 2.06-.94-2.06-.94-.94-2.06-.94 2.06-2.06.94z\"/><path d=\"M17.41 7.96l-1.37-1.37c-.4-.4-.92-.59-1.43-.59-.52 0-1.04.2-1.43.59L10.3 9.45l-7.72 7.72c-.78.78-.78 2.05 0 2.83L4 21.41c.39.39.9.59 1.41.59.51 0 1.02-.2 1.41-.59l7.78-7.78 2.81-2.81c.8-.78.8-2.07 0-2.86zM5.41 20L4 18.59l7.72-7.72 1.47 1.35L5.41 20z\"/>\n",
              "  </svg>\n",
              "      </button>\n",
              "      \n",
              "  <style>\n",
              "    .colab-df-container {\n",
              "      display:flex;\n",
              "      flex-wrap:wrap;\n",
              "      gap: 12px;\n",
              "    }\n",
              "\n",
              "    .colab-df-convert {\n",
              "      background-color: #E8F0FE;\n",
              "      border: none;\n",
              "      border-radius: 50%;\n",
              "      cursor: pointer;\n",
              "      display: none;\n",
              "      fill: #1967D2;\n",
              "      height: 32px;\n",
              "      padding: 0 0 0 0;\n",
              "      width: 32px;\n",
              "    }\n",
              "\n",
              "    .colab-df-convert:hover {\n",
              "      background-color: #E2EBFA;\n",
              "      box-shadow: 0px 1px 2px rgba(60, 64, 67, 0.3), 0px 1px 3px 1px rgba(60, 64, 67, 0.15);\n",
              "      fill: #174EA6;\n",
              "    }\n",
              "\n",
              "    [theme=dark] .colab-df-convert {\n",
              "      background-color: #3B4455;\n",
              "      fill: #D2E3FC;\n",
              "    }\n",
              "\n",
              "    [theme=dark] .colab-df-convert:hover {\n",
              "      background-color: #434B5C;\n",
              "      box-shadow: 0px 1px 3px 1px rgba(0, 0, 0, 0.15);\n",
              "      filter: drop-shadow(0px 1px 2px rgba(0, 0, 0, 0.3));\n",
              "      fill: #FFFFFF;\n",
              "    }\n",
              "  </style>\n",
              "\n",
              "      <script>\n",
              "        const buttonEl =\n",
              "          document.querySelector('#df-002b0293-aa56-4634-b2f2-752db26018fa button.colab-df-convert');\n",
              "        buttonEl.style.display =\n",
              "          google.colab.kernel.accessAllowed ? 'block' : 'none';\n",
              "\n",
              "        async function convertToInteractive(key) {\n",
              "          const element = document.querySelector('#df-002b0293-aa56-4634-b2f2-752db26018fa');\n",
              "          const dataTable =\n",
              "            await google.colab.kernel.invokeFunction('convertToInteractive',\n",
              "                                                     [key], {});\n",
              "          if (!dataTable) return;\n",
              "\n",
              "          const docLinkHtml = 'Like what you see? Visit the ' +\n",
              "            '<a target=\"_blank\" href=https://colab.research.google.com/notebooks/data_table.ipynb>data table notebook</a>'\n",
              "            + ' to learn more about interactive tables.';\n",
              "          element.innerHTML = '';\n",
              "          dataTable['output_type'] = 'display_data';\n",
              "          await google.colab.output.renderOutput(dataTable, element);\n",
              "          const docLink = document.createElement('div');\n",
              "          docLink.innerHTML = docLinkHtml;\n",
              "          element.appendChild(docLink);\n",
              "        }\n",
              "      </script>\n",
              "    </div>\n",
              "  </div>\n",
              "  "
            ]
          },
          "metadata": {},
          "execution_count": 4
        }
      ]
    },
    {
      "cell_type": "code",
      "source": [
        "def normalize(X):\n",
        "  mins = np.min(X, axis = 0)\n",
        "  maxs = np.max(X, axis = 0)\n",
        "  rng = maxs - mins\n",
        "  norm_X = 1 - ((maxs - X)/rng)\n",
        "  return norm_X\n",
        "#suppose that initially we want to use just 2 inputs to predict if the banknote is true or false. \n",
        "# Here we use variance of wavelet transformed image and  Skewness of Wavelet Transformed image\n",
        "x1 = banknoteData.loc[:,'Variance of Wavelet Transformed image'].values\n",
        "x2 = banknoteData.loc[:,'Skewness of Wavelet Transformed image'].values\n",
        "y = banknoteData.loc[:,'Class'].values\n",
        "\n",
        "x1 = normalize(x1)\n",
        "x2 = normalize(x2)"
      ],
      "metadata": {
        "id": "qIFZ0wsnaiDW"
      },
      "execution_count": 5,
      "outputs": []
    },
    {
      "cell_type": "code",
      "source": [
        "class0x1 = []\n",
        "class0x2 = []\n",
        "class1x1 = []\n",
        "class1x2 = []\n",
        "classy0 = []\n",
        "classy1 = []\n",
        "for x_1,x_2,y_i in zip(x1,x2,y):\n",
        "  if y_i == 0:\n",
        "    class0x1.append(x_1)\n",
        "    class0x2.append(x_2)\n",
        "    classy0.append(y_i)\n",
        "  else:\n",
        "    class1x1.append(x_1)\n",
        "    class1x2.append(x_2)\n",
        "    classy1.append(y_i)\n",
        "  \n",
        "plt.figure(figsize=(10,7))\n",
        "plt.scatter(class0x1, class0x2, label='0', c='r')\n",
        "plt.scatter(class1x1, class1x2, label='1', c='b')\n",
        "plt.legend(loc=\"upper left\")\n",
        "plt.xlabel('x1')\n",
        "plt.ylabel('x2')\n",
        "plt.show()"
      ],
      "metadata": {
        "colab": {
          "base_uri": "https://localhost:8080/",
          "height": 442
        },
        "id": "hykkV4cFckTa",
        "outputId": "26e377bf-ce91-4b28-86a9-e8420ed7994c"
      },
      "execution_count": 6,
      "outputs": [
        {
          "output_type": "display_data",
          "data": {
            "text/plain": [
              "<Figure size 720x504 with 1 Axes>"
            ],
            "image/png": "[encoded data removed]"
          },
          "metadata": {
            "needs_background": "light"
          }
        }
      ]
    },
    {
      "cell_type": "code",
      "source": [
        "dict = {'Variance of Wavelet Transformed image':x1,'Skewness of Wavelet Transformed image':x2}\n",
        "X = pd.DataFrame(data=dict)\n",
        "Y = banknoteData[['Class']]\n",
        "\n",
        "X_train, X_test, y_train, y_test = train_test_split(X, Y, random_state=42, test_size=0.2, shuffle=True)\n",
        "print('N.samples in training set: ', len(X_train))\n",
        "print('N.samples in test set: ', len(X_test))"
      ],
      "metadata": {
        "colab": {
          "base_uri": "https://localhost:8080/"
        },
        "id": "43VnPSWeyLaR",
        "outputId": "bda72166-2af1-407a-f867-7dfde7c2e6ea"
      },
      "execution_count": 7,
      "outputs": [
        {
          "output_type": "stream",
          "name": "stdout",
          "text": [
            "N.samples in training set:  1097\n",
            "N.samples in test set:  275\n"
          ]
        }
      ]
    },
    {
      "cell_type": "markdown",
      "source": [
        "#Logistic Regression#"
      ],
      "metadata": {
        "id": "Z8wTXZ61pqfN"
      }
    },
    {
      "cell_type": "code",
      "source": [
        "#sigmoid function\n",
        "def logistic_function(pred):\n",
        "  p = 1/(1+np.exp(-pred))\n",
        "  return p\n",
        "\n",
        "def logts_reg(x1,x2,B0,B1,B2):\n",
        "  lr_out = B0+B1*x1+B2*x2\n",
        "  return lr_out\n",
        "\n",
        "def get_pred(pred):\n",
        "  y_pred_a = 0\n",
        "  if pred < 0.5: y_pred_a = 0\n",
        "  else: y_pred_a = 1 \n",
        "  return y_pred_a\n",
        "  \n",
        "#to estimate the coefficients we use SGD\n",
        "#alpha = learning rate\n",
        "def SGD(X,Y,alpha, n_epochs):\n",
        "  B0 = B1 = B2 = 0\n",
        "  l_likelihood = 0\n",
        "  log_like = 0\n",
        "  acc_arr = []\n",
        "  l_lhoods = []\n",
        "  for epoch in range(n_epochs):\n",
        "    tot_correct = 0\n",
        "    tot_pred = 0\n",
        "    tot_loss = 0\n",
        "    for (index,x),(index2,y) in zip(X.iterrows(),Y.iterrows()):\n",
        "      x1 = x['Variance of Wavelet Transformed image']\n",
        "      x2 = x['Skewness of Wavelet Transformed image']\n",
        "      y_true = y['Class']\n",
        "      lr_out = logts_reg(x1,x2,B0,B1,B2)\n",
        "      y_pred =  logistic_function(lr_out)\n",
        "      #log likelihhod\n",
        "      step1 = y_true*np.log(y_pred)\n",
        "      step2 =(1-y_true)*np.log(1-y_pred)\n",
        "      l_likelihood1 = -step1-step2\n",
        "      tot_loss += l_likelihood1\n",
        "      #parameters updating\n",
        "      B0 = B0+alpha*(y_true - y_pred)\n",
        "      B1 = B1+alpha*(y_true - y_pred)*x1\n",
        "      B2 = B2+alpha*(y_true - y_pred)*x2\n",
        "      #accuracy \n",
        "      y_pred_a = get_pred(y_pred)\n",
        "      if y_pred_a == y_true: tot_correct+=1\n",
        "      tot_pred +=1\n",
        "\n",
        "    #log_like = np.mean(l_likelihood1)\n",
        "    log_like = tot_loss/float(len(X))\n",
        "    l_lhoods.append(log_like)\n",
        "    accuracy = tot_correct/tot_pred\n",
        "    acc_arr.append(accuracy)\n",
        "    #to print values at each epoch\n",
        "    #print('>epoch=%d, lrate=%.3f, log likelihood=%.3f, accuracy=%.3f' % (epoch, lr, log_like,accuracy))\n",
        "  \n",
        "  return B0,B1,B2,l_lhoods,acc_arr\n"
      ],
      "metadata": {
        "id": "WBAWKPvuppSb"
      },
      "execution_count": 8,
      "outputs": []
    },
    {
      "cell_type": "code",
      "source": [
        "n_epochs = 500\n",
        "lr = 0.001\n",
        "B0,B1,B2,l_lhoods,acc_arr = SGD(X_train,y_train,lr,n_epochs)\n",
        "print(' end training phase ---------------------------------------------')\n",
        "print('B0:',B0)\n",
        "print('B1', B1)\n",
        "print('B2', B2)"
      ],
      "metadata": {
        "colab": {
          "base_uri": "https://localhost:8080/"
        },
        "id": "Gs_-cagU2U7d",
        "outputId": "188ec5e2-0179-438a-8025-559a38d4964c"
      },
      "execution_count": 9,
      "outputs": [
        {
          "output_type": "stream",
          "name": "stdout",
          "text": [
            " end training phase ---------------------------------------------\n",
            "B0: 6.944787152829223\n",
            "B1 -9.270791656305724\n",
            "B2 -4.062073883522816\n"
          ]
        }
      ]
    },
    {
      "cell_type": "markdown",
      "source": [
        "*comparison with Sklearn model*"
      ],
      "metadata": {
        "id": "hqTytlNY79jv"
      }
    },
    {
      "cell_type": "code",
      "source": [
        "from sklearn.linear_model import LogisticRegression\n",
        "y_train_ = y_train.values.ravel()\n",
        "lgr = LogisticRegression()\n",
        "lgr.fit(X_train,y_train_)\n",
        "B0_sk = lgr.intercept_[0]\n",
        "B1_sk,B2_sk = lgr.coef_[0]\n",
        "print('B0 sklearn:', B0_sk)\n",
        "print('B1 sklearn:', B1_sk)\n",
        "print('B2 sklearn:', B2_sk)"
      ],
      "metadata": {
        "colab": {
          "base_uri": "https://localhost:8080/"
        },
        "id": "-dMybytc8BFh",
        "outputId": "b0693da0-7e70-4e07-a294-3c665d271ea1"
      },
      "execution_count": 12,
      "outputs": [
        {
          "output_type": "stream",
          "name": "stdout",
          "text": [
            "B0 sklearn: 7.450236844603907\n",
            "B1 sklearn: -9.581538982504199\n",
            "B2 sklearn: -4.581161744725583\n"
          ]
        }
      ]
    },
    {
      "cell_type": "code",
      "source": [
        "n_epoches = [x for x in range(0,n_epochs)]\n",
        "fig, (ax1, ax2) = plt.subplots(1, 2, figsize=(18,6))\n",
        "ax1.plot(n_epoches,l_lhoods)\n",
        "ax1.set_xlabel('Epoches')\n",
        "ax1.set_ylabel('log likelihood')\n",
        "ax1.set_title('Log Likelihood')\n",
        "\n",
        "ax2.plot(n_epoches,acc_arr)\n",
        "ax2.set_xlabel('Epoches')\n",
        "ax2.set_ylabel('accuracy')\n",
        "ax2.set_title('training accuracy')\n",
        "plt.show()"
      ],
      "metadata": {
        "colab": {
          "base_uri": "https://localhost:8080/",
          "height": 404
        },
        "id": "89nA5dBZKUNK",
        "outputId": "8ab5e850-69be-4aed-98c4-3ad9de491bb5"
      },
      "execution_count": 10,
      "outputs": [
        {
          "output_type": "display_data",
          "data": {
            "text/plain": [
              "<Figure size 1296x432 with 2 Axes>"
            ],
            "image/png": "[encoded data removed]"
          },
          "metadata": {
            "needs_background": "light"
          }
        }
      ]
    },
    {
      "cell_type": "markdown",
      "source": [
        "**Test Phase**"
      ],
      "metadata": {
        "id": "iyGhNqe6K1wk"
      }
    },
    {
      "cell_type": "code",
      "source": [
        "def test_phase(B0, B1, B2,X,Y):\n",
        "  correct_preds = 0\n",
        "  tot_preds = 0\n",
        "  y_preds = []\n",
        "  y_preds_plot = []\n",
        "  for (index,x),(index2,y) in zip(X.iterrows(),Y.iterrows()):\n",
        "    x1 = x['Variance of Wavelet Transformed image']\n",
        "    x2 = x['Skewness of Wavelet Transformed image']\n",
        "    y_true = y['Class']\n",
        "    lr_out = logts_reg(x1,x2,B0,B1,B2)\n",
        "    y_pred =  logistic_function(lr_out)\n",
        "    if y_pred < 0.5: y_pred = 0\n",
        "    else: y_pred = 1\n",
        "    #computing accuracy of the model\n",
        "    if y_pred == y_true: correct_preds+=1\n",
        "    tot_preds +=1\n",
        "    y_preds.append(y_pred)\n",
        "  print(f'model accuracy: {correct_preds/tot_preds}')\n",
        "  return y_preds\n",
        "\n",
        "y_preds = test_phase(B0, B1, B2,X_test,y_test)\n",
        "confusion_m = confusion_matrix(y_test, y_preds)\n",
        "print('confusion matrix for model trained from scratch: \\n', confusion_m)\n",
        "print(classification_report(y_test, y_preds))"
      ],
      "metadata": {
        "colab": {
          "base_uri": "https://localhost:8080/"
        },
        "id": "8XoBUEIuK39S",
        "outputId": "70e644b0-1eea-417d-b94b-54b472cbd3c5"
      },
      "execution_count": 11,
      "outputs": [
        {
          "output_type": "stream",
          "name": "stdout",
          "text": [
            "model accuracy: 0.8581818181818182\n",
            "confusion matrix for model trained from scratch: \n",
            " [[140   8]\n",
            " [ 31  96]]\n",
            "              precision    recall  f1-score   support\n",
            "\n",
            "           0       0.82      0.95      0.88       148\n",
            "           1       0.92      0.76      0.83       127\n",
            "\n",
            "    accuracy                           0.86       275\n",
            "   macro avg       0.87      0.85      0.85       275\n",
            "weighted avg       0.87      0.86      0.86       275\n",
            "\n"
          ]
        }
      ]
    },
    {
      "cell_type": "markdown",
      "source": [
        "*comparison with SKlearn model*"
      ],
      "metadata": {
        "id": "PSKWpmhYNNuS"
      }
    },
    {
      "cell_type": "code",
      "source": [
        "y_pred_sk = lgr.predict(X_test)\n",
        "cm = confusion_matrix(y_test, y_pred_sk)\n",
        "print (\"Confusion Matrix : \\n\", cm)\n",
        "print (\"Accuracy : \", accuracy_score(y_test, y_pred_sk))\n",
        "print(classification_report(y_test, y_pred_sk))"
      ],
      "metadata": {
        "colab": {
          "base_uri": "https://localhost:8080/"
        },
        "id": "dHhBQ4xENRkn",
        "outputId": "41a0b8bf-0b47-44ab-ac31-de30d9526a07"
      },
      "execution_count": 13,
      "outputs": [
        {
          "output_type": "stream",
          "name": "stdout",
          "text": [
            "Confusion Matrix : \n",
            " [[138  10]\n",
            " [ 30  97]]\n",
            "Accuracy :  0.8545454545454545\n",
            "              precision    recall  f1-score   support\n",
            "\n",
            "           0       0.82      0.93      0.87       148\n",
            "           1       0.91      0.76      0.83       127\n",
            "\n",
            "    accuracy                           0.85       275\n",
            "   macro avg       0.86      0.85      0.85       275\n",
            "weighted avg       0.86      0.85      0.85       275\n",
            "\n"
          ]
        }
      ]
    },
    {
      "cell_type": "markdown",
      "source": [
        "**Predictions visualization on Test Set**"
      ],
      "metadata": {
        "id": "7F1yNtAYvbro"
      }
    },
    {
      "cell_type": "code",
      "source": [
        "def compute_boundary(B0,B1,B2,xmin, xmax):\n",
        "  #boundary \n",
        "  c = -B0/B2\n",
        "  m = -B1/B2\n",
        "  xd = np.array([xmin, xmax])\n",
        "  yd = m*xd + c\n",
        "  return xd,yd\n",
        "\n",
        "class0x1 = []\n",
        "class0x2 = []\n",
        "class1x1 = []\n",
        "class1x2 = []\n",
        "classy0 = []\n",
        "classy1 = []\n",
        "for (index,x),(index2,y) in zip(X_test.iterrows(),y_test.iterrows()):\n",
        "  x1 = x['Variance of Wavelet Transformed image']\n",
        "  x2 = x['Skewness of Wavelet Transformed image']\n",
        "  y_i = y['Class']\n",
        "  if y_i == 0:\n",
        "    class0x1.append(x1)\n",
        "    class0x2.append(x2)\n",
        "    classy0.append(y_i)\n",
        "\n",
        "  else:\n",
        "    class1x1.append(x1)\n",
        "    class1x2.append(x2)\n",
        "    classy1.append(y_i)\n",
        "  \n",
        "\n",
        "plt.figure(figsize=(10,7))\n",
        "plt.scatter(class0x1, class0x2, label='0', c='r')\n",
        "plt.scatter(class1x1, class1x2, label='1', c='b')\n",
        "xmin, xmax = 0, 1\n",
        "ymin, ymax = 0, 1\n",
        "xd,yd = compute_boundary(B0,B1,B2,xmin, xmax)\n",
        "plt.plot(xd, yd, 'k', lw=1, ls='--',label='model from scratch boundary')\n",
        "xd_sk,yd_sk = compute_boundary(B0_sk,B1_sk,B2_sk,xmin, xmax)\n",
        "plt.plot(xd_sk, yd_sk, 'k', lw=1, ls='--',label='sklearn model boundary',c='g')\n",
        "plt.xlim(xmin, xmax)\n",
        "plt.ylim(ymin, ymax)\n",
        "\n",
        "\n",
        "plt.legend(loc=\"upper left\")\n",
        "plt.xlabel('x1')\n",
        "plt.ylabel('x2')\n",
        "plt.show()"
      ],
      "metadata": {
        "colab": {
          "base_uri": "https://localhost:8080/",
          "height": 446
        },
        "id": "S0jU5MtMveSF",
        "outputId": "a727c4f4-db41-49a0-f90f-aa3a60f0c276"
      },
      "execution_count": 14,
      "outputs": [
        {
          "output_type": "display_data",
          "data": {
            "text/plain": [
              "<Figure size 720x504 with 1 Axes>"
            ],
            "image/png": "[encoded data removed]"
          },
          "metadata": {
            "needs_background": "light"
          }
        }
      ]
    },
    {
      "cell_type": "markdown",
      "source": [
        "#Logistic Regression pt.2#"
      ],
      "metadata": {
        "id": "snSEPuIVbTbm"
      }
    },
    {
      "cell_type": "code",
      "source": [
        "#let's inspect the case when using all the 4 input vaiable to predict the binary output\n",
        "#normalization\n",
        "X2 = banknoteData.iloc[:,[0,1,2,3]]\n",
        "y2 = banknoteData.loc[:,'Class'].values\n",
        "X2_=(X2-X2.min())/(X2.max()-X2.min())\n",
        "X2_.head()\n"
      ],
      "metadata": {
        "colab": {
          "base_uri": "https://localhost:8080/",
          "height": 206
        },
        "id": "SJm_7NMMbcxB",
        "outputId": "a5e40380-8064-4a09-c856-5d77cf6c1094"
      },
      "execution_count": 5,
      "outputs": [
        {
          "output_type": "execute_result",
          "data": {
            "text/plain": [
              "   Variance of Wavelet Transformed image  \\\n",
              "0                               0.769004   \n",
              "1                               0.835659   \n",
              "2                               0.786629   \n",
              "3                               0.757105   \n",
              "4                               0.531578   \n",
              "\n",
              "   Skewness of Wavelet Transformed image  \\\n",
              "0                               0.839643   \n",
              "1                               0.820982   \n",
              "2                               0.416648   \n",
              "3                               0.871699   \n",
              "4                               0.348662   \n",
              "\n",
              "   Kurtosis of Wavelet Transformed image  Entropy of image  \n",
              "0                               0.106783          0.736628  \n",
              "1                               0.121804          0.644326  \n",
              "2                               0.310608          0.786951  \n",
              "3                               0.054921          0.450440  \n",
              "4                               0.424662          0.687362  "
            ],
            "text/html": [
              "\n",
              "  <div id=\"df-ed38e51c-df07-43ef-88e7-a6686bb61582\">\n",
              "    <div class=\"colab-df-container\">\n",
              "      <div>\n",
              "<style scoped>\n",
              "    .dataframe tbody tr th:only-of-type {\n",
              "        vertical-align: middle;\n",
              "    }\n",
              "\n",
              "    .dataframe tbody tr th {\n",
              "        vertical-align: top;\n",
              "    }\n",
              "\n",
              "    .dataframe thead th {\n",
              "        text-align: right;\n",
              "    }\n",
              "</style>\n",
              "<table border=\"1\" class=\"dataframe\">\n",
              "  <thead>\n",
              "    <tr style=\"text-align: right;\">\n",
              "      <th></th>\n",
              "      <th>Variance of Wavelet Transformed image</th>\n",
              "      <th>Skewness of Wavelet Transformed image</th>\n",
              "      <th>Kurtosis of Wavelet Transformed image</th>\n",
              "      <th>Entropy of image</th>\n",
              "    </tr>\n",
              "  </thead>\n",
              "  <tbody>\n",
              "    <tr>\n",
              "      <th>0</th>\n",
              "      <td>0.769004</td>\n",
              "      <td>0.839643</td>\n",
              "      <td>0.106783</td>\n",
              "      <td>0.736628</td>\n",
              "    </tr>\n",
              "    <tr>\n",
              "      <th>1</th>\n",
              "      <td>0.835659</td>\n",
              "      <td>0.820982</td>\n",
              "      <td>0.121804</td>\n",
              "      <td>0.644326</td>\n",
              "    </tr>\n",
              "    <tr>\n",
              "      <th>2</th>\n",
              "      <td>0.786629</td>\n",
              "      <td>0.416648</td>\n",
              "      <td>0.310608</td>\n",
              "      <td>0.786951</td>\n",
              "    </tr>\n",
              "    <tr>\n",
              "      <th>3</th>\n",
              "      <td>0.757105</td>\n",
              "      <td>0.871699</td>\n",
              "      <td>0.054921</td>\n",
              "      <td>0.450440</td>\n",
              "    </tr>\n",
              "    <tr>\n",
              "      <th>4</th>\n",
              "      <td>0.531578</td>\n",
              "      <td>0.348662</td>\n",
              "      <td>0.424662</td>\n",
              "      <td>0.687362</td>\n",
              "    </tr>\n",
              "  </tbody>\n",
              "</table>\n",
              "</div>\n",
              "      <button class=\"colab-df-convert\" onclick=\"convertToInteractive('df-ed38e51c-df07-43ef-88e7-a6686bb61582')\"\n",
              "              title=\"Convert this dataframe to an interactive table.\"\n",
              "              style=\"display:none;\">\n",
              "        \n",
              "  <svg xmlns=\"http://www.w3.org/2000/svg\" height=\"24px\"viewBox=\"0 0 24 24\"\n",
              "       width=\"24px\">\n",
              "    <path d=\"M0 0h24v24H0V0z\" fill=\"none\"/>\n",
              "    <path d=\"M18.56 5.44l.94 2.06.94-2.06 2.06-.94-2.06-.94-.94-2.06-.94 2.06-2.06.94zm-11 1L8.5 8.5l.94-2.06 2.06-.94-2.06-.94L8.5 2.5l-.94 2.06-2.06.94zm10 10l.94 2.06.94-2.06 2.06-.94-2.06-.94-.94-2.06-.94 2.06-2.06.94z\"/><path d=\"M17.41 7.96l-1.37-1.37c-.4-.4-.92-.59-1.43-.59-.52 0-1.04.2-1.43.59L10.3 9.45l-7.72 7.72c-.78.78-.78 2.05 0 2.83L4 21.41c.39.39.9.59 1.41.59.51 0 1.02-.2 1.41-.59l7.78-7.78 2.81-2.81c.8-.78.8-2.07 0-2.86zM5.41 20L4 18.59l7.72-7.72 1.47 1.35L5.41 20z\"/>\n",
              "  </svg>\n",
              "      </button>\n",
              "      \n",
              "  <style>\n",
              "    .colab-df-container {\n",
              "      display:flex;\n",
              "      flex-wrap:wrap;\n",
              "      gap: 12px;\n",
              "    }\n",
              "\n",
              "    .colab-df-convert {\n",
              "      background-color: #E8F0FE;\n",
              "      border: none;\n",
              "      border-radius: 50%;\n",
              "      cursor: pointer;\n",
              "      display: none;\n",
              "      fill: #1967D2;\n",
              "      height: 32px;\n",
              "      padding: 0 0 0 0;\n",
              "      width: 32px;\n",
              "    }\n",
              "\n",
              "    .colab-df-convert:hover {\n",
              "      background-color: #E2EBFA;\n",
              "      box-shadow: 0px 1px 2px rgba(60, 64, 67, 0.3), 0px 1px 3px 1px rgba(60, 64, 67, 0.15);\n",
              "      fill: #174EA6;\n",
              "    }\n",
              "\n",
              "    [theme=dark] .colab-df-convert {\n",
              "      background-color: #3B4455;\n",
              "      fill: #D2E3FC;\n",
              "    }\n",
              "\n",
              "    [theme=dark] .colab-df-convert:hover {\n",
              "      background-color: #434B5C;\n",
              "      box-shadow: 0px 1px 3px 1px rgba(0, 0, 0, 0.15);\n",
              "      filter: drop-shadow(0px 1px 2px rgba(0, 0, 0, 0.3));\n",
              "      fill: #FFFFFF;\n",
              "    }\n",
              "  </style>\n",
              "\n",
              "      <script>\n",
              "        const buttonEl =\n",
              "          document.querySelector('#df-ed38e51c-df07-43ef-88e7-a6686bb61582 button.colab-df-convert');\n",
              "        buttonEl.style.display =\n",
              "          google.colab.kernel.accessAllowed ? 'block' : 'none';\n",
              "\n",
              "        async function convertToInteractive(key) {\n",
              "          const element = document.querySelector('#df-ed38e51c-df07-43ef-88e7-a6686bb61582');\n",
              "          const dataTable =\n",
              "            await google.colab.kernel.invokeFunction('convertToInteractive',\n",
              "                                                     [key], {});\n",
              "          if (!dataTable) return;\n",
              "\n",
              "          const docLinkHtml = 'Like what you see? Visit the ' +\n",
              "            '<a target=\"_blank\" href=https://colab.research.google.com/notebooks/data_table.ipynb>data table notebook</a>'\n",
              "            + ' to learn more about interactive tables.';\n",
              "          element.innerHTML = '';\n",
              "          dataTable['output_type'] = 'display_data';\n",
              "          await google.colab.output.renderOutput(dataTable, element);\n",
              "          const docLink = document.createElement('div');\n",
              "          docLink.innerHTML = docLinkHtml;\n",
              "          element.appendChild(docLink);\n",
              "        }\n",
              "      </script>\n",
              "    </div>\n",
              "  </div>\n",
              "  "
            ]
          },
          "metadata": {},
          "execution_count": 5
        }
      ]
    },
    {
      "cell_type": "code",
      "source": [
        "X_train1, X_test1, y_train1, y_test1 = train_test_split(X2, y2, random_state=42, test_size=0.2, shuffle=True)\n",
        "print('N.samples in training set: ', len(X_train1))\n",
        "print('N.samples in test set: ', len(X_test1))"
      ],
      "metadata": {
        "colab": {
          "base_uri": "https://localhost:8080/"
        },
        "id": "ct4LomkPengC",
        "outputId": "bed63db0-bbc7-4c69-ba2a-28599f10785b"
      },
      "execution_count": 6,
      "outputs": [
        {
          "output_type": "stream",
          "name": "stdout",
          "text": [
            "N.samples in training set:  1097\n",
            "N.samples in test set:  275\n"
          ]
        }
      ]
    },
    {
      "cell_type": "code",
      "source": [
        "#sigmoid function\n",
        "def logistic_function(pred):\n",
        "  p = 1/(1+np.exp(-pred))\n",
        "  return p\n",
        "\n",
        "def logts_reg2(x1,x2,x3,x4,B0,B1,B2,B3,B4):\n",
        "  lr_out = B0+B1*x1+B2*x2+B3*x3+B4*x4\n",
        "  return lr_out\n",
        "\n",
        "def get_predictions(pred):\n",
        "  y_pred_a = 0\n",
        "  if pred < 0.5: y_pred_a = 0\n",
        "  else: y_pred_a = 1 \n",
        "  return y_pred_a\n",
        "  \n",
        "#to estimate the coefficients we use SGD\n",
        "#alpha = learning rate\n",
        "def SGD_mod(X,Y,alpha, n_epochs):\n",
        "  B0 = B1 = B2 = B3 = B4 = 0\n",
        "  l_likelihood = 0\n",
        "  log_like = 0\n",
        "  acc_arr = []\n",
        "  l_lhoods = []\n",
        "  for epoch in range(n_epochs):\n",
        "    tot_correct = 0\n",
        "    tot_pred = 0\n",
        "    tot_loss = 0\n",
        "    for (index,x),y in zip(X.iterrows(),Y):\n",
        "      x1 = x['Variance of Wavelet Transformed image']\n",
        "      x2 = x['Skewness of Wavelet Transformed image']\n",
        "      x3 = x['Kurtosis of Wavelet Transformed image']\n",
        "      x4 = x['Entropy of image']\n",
        "      y_true = y\n",
        "      lr_out = logts_reg2(x1,x2,x3,x4,B0,B1,B2,B3,B4)\n",
        "      y_pred =  logistic_function(lr_out)\n",
        "      #log likelihhod\n",
        "      step1 = y_true*np.log(y_pred)\n",
        "      step2 =(1-y_true)*np.log(1-y_pred)\n",
        "      l_likelihood1 = -step1-step2\n",
        "      tot_loss += l_likelihood1\n",
        "      #parameters updating\n",
        "      B0 = B0+alpha*(y_true - y_pred)\n",
        "      B1 = B1+alpha*(y_true - y_pred)*x1\n",
        "      B2 = B2+alpha*(y_true - y_pred)*x2\n",
        "      B3 = B3+alpha*(y_true - y_pred)*x3\n",
        "      B4 = B4+alpha*(y_true - y_pred)*x4\n",
        "      #accuracy \n",
        "      y_pred_a = get_predictions(y_pred)\n",
        "      if y_pred_a == y_true: tot_correct+=1\n",
        "\n",
        "    log_like = tot_loss/float(len(X))\n",
        "    l_lhoods.append(log_like)\n",
        "    accuracy = tot_correct/float(len(Y))\n",
        "    acc_arr.append(accuracy)\n",
        "    #to print metrics at every epoch\n",
        "    #print('>epoch=%d, lrate=%.3f, log likelihood=%.3f, accuracy=%.3f' % (epoch, lr, log_like,accuracy))\n",
        "  \n",
        "  return B0,B1,B2,B3,B4,l_lhoods,acc_arr"
      ],
      "metadata": {
        "id": "MZWuCXXte9GI"
      },
      "execution_count": 7,
      "outputs": []
    },
    {
      "cell_type": "code",
      "source": [
        "n_epochs = 100\n",
        "lr = 0.001\n",
        "B0,B1,B2,B3,B4,l_lhoods,acc_arr = SGD_mod(X_train1,y_train1,lr,n_epochs)\n",
        "print(' end training phase ---------------------------------------------')\n",
        "print('B0:',B0)\n",
        "print('B1', B1)\n",
        "print('B2', B2)\n",
        "print('B3', B3)\n",
        "print('B4', B4)"
      ],
      "metadata": {
        "colab": {
          "base_uri": "https://localhost:8080/"
        },
        "id": "mORchJY_gJt1",
        "outputId": "30664c75-f798-4c10-c646-58ab8b40a085"
      },
      "execution_count": 8,
      "outputs": [
        {
          "output_type": "stream",
          "name": "stdout",
          "text": [
            " end training phase ---------------------------------------------\n",
            "B0: 2.129604873988688\n",
            "B1 -2.24891535986572\n",
            "B2 -1.2748816616970826\n",
            "B3 -1.5005122340464776\n",
            "B4 -0.16824356688385503\n"
          ]
        }
      ]
    },
    {
      "cell_type": "markdown",
      "source": [
        "*Comparison with SKlearn model*"
      ],
      "metadata": {
        "id": "-BHisIoug0Kv"
      }
    },
    {
      "cell_type": "code",
      "source": [
        "from sklearn.linear_model import LogisticRegression\n",
        "lgr = LogisticRegression()\n",
        "lgr.fit(X_train1,y_train1)\n",
        "B0_sk = lgr.intercept_[0]\n",
        "B1_sk,B2_sk,B3_sk,B4_sk = lgr.coef_[0]\n",
        "#sklearn model coefficients\n",
        "print('B0 sklearn:', B0_sk)\n",
        "print('B1 sklearn:', B1_sk)\n",
        "print('B2 sklearn:', B2_sk)\n",
        "print('B3 sklearn:', B3_sk)\n",
        "print('B4 sklearn:', B4_sk)"
      ],
      "metadata": {
        "colab": {
          "base_uri": "https://localhost:8080/"
        },
        "id": "kGym4bVfg4NC",
        "outputId": "39649a5c-cecb-4ee8-80ce-7e44a907e34e"
      },
      "execution_count": 11,
      "outputs": [
        {
          "output_type": "stream",
          "name": "stdout",
          "text": [
            "B0 sklearn: 3.510583086651069\n",
            "B1 sklearn: -3.260214806733191\n",
            "B2 sklearn: -1.7885609510276754\n",
            "B3 sklearn: -2.18251008953462\n",
            "B4 sklearn: -0.037619789364035094\n"
          ]
        }
      ]
    },
    {
      "cell_type": "markdown",
      "source": [
        "**Accuracy and cost plots**"
      ],
      "metadata": {
        "id": "2HprOVkBhVNk"
      }
    },
    {
      "cell_type": "code",
      "source": [
        "#values for logistic regression from scratch\n",
        "n_epoches = [x for x in range(0,n_epochs)]\n",
        "fig, (ax1, ax2) = plt.subplots(1, 2, figsize=(18,6))\n",
        "ax1.plot(n_epoches,l_lhoods)\n",
        "ax1.set_xlabel('Epoches')\n",
        "ax1.set_ylabel('log likelihood')\n",
        "ax1.set_title('Log Likelihood')\n",
        "\n",
        "ax2.plot(n_epoches,acc_arr)\n",
        "ax2.set_xlabel('Epoches')\n",
        "ax2.set_ylabel('accuracy')\n",
        "ax2.set_title('training accuracy')\n",
        "plt.show()"
      ],
      "metadata": {
        "colab": {
          "base_uri": "https://localhost:8080/",
          "height": 404
        },
        "id": "4u669nzshYuo",
        "outputId": "a37c3697-4864-4c7d-8fb4-c5582b17bf7f"
      },
      "execution_count": 9,
      "outputs": [
        {
          "output_type": "display_data",
          "data": {
            "text/plain": [
              "<Figure size 1296x432 with 2 Axes>"
            ],
            "image/png": "[encoded data removed]"
          },
          "metadata": {
            "needs_background": "light"
          }
        }
      ]
    },
    {
      "cell_type": "markdown",
      "source": [
        "**Test Phase**"
      ],
      "metadata": {
        "id": "pcddvLJNhewl"
      }
    },
    {
      "cell_type": "markdown",
      "source": [
        "*Logistic Regression from scratch accuracy*"
      ],
      "metadata": {
        "id": "I8D6OxOa1Ajj"
      }
    },
    {
      "cell_type": "code",
      "source": [
        "def test_phase(B0,B1,B2,B3,B4,X,Y):\n",
        "  correct_preds = 0\n",
        "  tot_preds = 0\n",
        "  y_preds = []\n",
        "  y_preds_plot = []\n",
        "  for (index,x),y in zip(X.iterrows(),Y):\n",
        "    x1 = x['Variance of Wavelet Transformed image']\n",
        "    x2 = x['Skewness of Wavelet Transformed image']\n",
        "    x3 = x['Kurtosis of Wavelet Transformed image']\n",
        "    x4 = x['Entropy of image']\n",
        "    y_true = y\n",
        "    lr_out = logts_reg2(x1,x2,x3,x4,B0,B1,B2,B3,B4)\n",
        "    y_pred =  logistic_function(lr_out)\n",
        "    y_pred_a = get_predictions(y_pred)\n",
        "    #computing accuracy of the model\n",
        "    if y_pred_a == y_true: correct_preds+=1\n",
        "    tot_preds +=1\n",
        "    y_preds.append(y_pred_a)\n",
        "  print(f'model accuracy: {correct_preds/tot_preds}')\n",
        "  return y_preds\n",
        "\n",
        "y_preds = test_phase(B0,B1,B2,B3,B4,X_test1,y_test1)\n",
        "confusion_m = confusion_matrix(y_test1, y_preds)\n",
        "print('confusion matrix for model trained from scratch: \\n', confusion_m)\n",
        "print(classification_report(y_test1, y_preds))"
      ],
      "metadata": {
        "colab": {
          "base_uri": "https://localhost:8080/"
        },
        "id": "7Cip5P7zhhVc",
        "outputId": "34c65baa-7f2f-4587-bc8f-8bdd716a86f2"
      },
      "execution_count": 10,
      "outputs": [
        {
          "output_type": "stream",
          "name": "stdout",
          "text": [
            "model accuracy: 0.9854545454545455\n",
            "confusion matrix for model trained from scratch: \n",
            " [[146   2]\n",
            " [  2 125]]\n",
            "              precision    recall  f1-score   support\n",
            "\n",
            "           0       0.99      0.99      0.99       148\n",
            "           1       0.98      0.98      0.98       127\n",
            "\n",
            "    accuracy                           0.99       275\n",
            "   macro avg       0.99      0.99      0.99       275\n",
            "weighted avg       0.99      0.99      0.99       275\n",
            "\n"
          ]
        }
      ]
    },
    {
      "cell_type": "markdown",
      "source": [
        "*Sklearn Logistic Regression accuracy*"
      ],
      "metadata": {
        "id": "MvbztvE007oz"
      }
    },
    {
      "cell_type": "code",
      "source": [
        "y_pred_sk = lgr.predict(X_test1)\n",
        "cm = confusion_matrix(y_test1, y_pred_sk)\n",
        "print (\"Confusion Matrix : \\n\", cm)\n",
        "print (\"Accuracy : \", accuracy_score(y_test1, y_pred_sk))\n",
        "print(classification_report(y_test1, y_pred_sk))"
      ],
      "metadata": {
        "colab": {
          "base_uri": "https://localhost:8080/"
        },
        "id": "Tnh13dlwlstf",
        "outputId": "10de19d7-bf82-4220-a60d-bb928d42d4e1"
      },
      "execution_count": 12,
      "outputs": [
        {
          "output_type": "stream",
          "name": "stdout",
          "text": [
            "Confusion Matrix : \n",
            " [[146   2]\n",
            " [  2 125]]\n",
            "Accuracy :  0.9854545454545455\n",
            "              precision    recall  f1-score   support\n",
            "\n",
            "           0       0.99      0.99      0.99       148\n",
            "           1       0.98      0.98      0.98       127\n",
            "\n",
            "    accuracy                           0.99       275\n",
            "   macro avg       0.99      0.99      0.99       275\n",
            "weighted avg       0.99      0.99      0.99       275\n",
            "\n"
          ]
        }
      ]
    }
  ]
}