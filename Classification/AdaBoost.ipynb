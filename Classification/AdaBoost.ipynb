{
  "nbformat": 4,
  "nbformat_minor": 0,
  "metadata": {
    "colab": {
      "name": "AdaBoost.ipynb",
      "provenance": [],
      "collapsed_sections": []
    },
    "kernelspec": {
      "name": "python3",
      "display_name": "Python 3"
    },
    "language_info": {
      "name": "python"
    }
  },
  "cells": [
    {
      "cell_type": "code",
      "execution_count": 1,
      "metadata": {
        "id": "EAXv4jQfW1Ag"
      },
      "outputs": [],
      "source": [
        "import pandas as pd\n",
        "import numpy as np\n",
        "import random\n",
        "import matplotlib.pyplot as plt\n",
        "from sklearn.model_selection import train_test_split\n",
        "import math\n",
        "from sklearn.metrics import confusion_matrix\n",
        "from sklearn.metrics import accuracy_score\n",
        "from sklearn.metrics import classification_report\n",
        "from random import seed\n",
        "from random import randrange"
      ]
    },
    {
      "cell_type": "code",
      "source": [
        "from google.colab import drive\n",
        "drive.mount('/content/drive')"
      ],
      "metadata": {
        "colab": {
          "base_uri": "https://localhost:8080/"
        },
        "id": "pUBEiHPdb6mp",
        "outputId": "b12876b0-6888-4177-d33b-c995abe956ec"
      },
      "execution_count": 2,
      "outputs": [
        {
          "output_type": "stream",
          "name": "stdout",
          "text": [
            "Drive already mounted at /content/drive; to attempt to forcibly remount, call drive.mount(\"/content/drive\", force_remount=True).\n"
          ]
        }
      ]
    },
    {
      "cell_type": "code",
      "source": [
        "#the dataset aims to predict the whether a given banknote is authentic given a number of measures taken from a photograph. \n",
        "#it is a binary classification problem where 0 is the label for an authentic banknote while 1 for a fake one.\n",
        "banknoteData = pd.read_csv('/content/drive/MyDrive/MachineLearning/datasets/data_banknote_authentication.csv')\n",
        "banknoteData.head()"
      ],
      "metadata": {
        "colab": {
          "base_uri": "https://localhost:8080/",
          "height": 206
        },
        "id": "spz_AVkKb7EV",
        "outputId": "1258d2af-0e27-4084-e955-7db95a3bec16"
      },
      "execution_count": 3,
      "outputs": [
        {
          "output_type": "execute_result",
          "data": {
            "text/plain": [
              "   Variance of Wavelet Transformed image  \\\n",
              "0                                3.62160   \n",
              "1                                4.54590   \n",
              "2                                3.86600   \n",
              "3                                3.45660   \n",
              "4                                0.32924   \n",
              "\n",
              "   Skewness of Wavelet Transformed image  \\\n",
              "0                                 8.6661   \n",
              "1                                 8.1674   \n",
              "2                                -2.6383   \n",
              "3                                 9.5228   \n",
              "4                                -4.4552   \n",
              "\n",
              "   Kurtosis of Wavelet Transformed image  Entropy of image  Class  \n",
              "0                                -2.8073          -0.44699      0  \n",
              "1                                -2.4586          -1.46210      0  \n",
              "2                                 1.9242           0.10645      0  \n",
              "3                                -4.0112          -3.59440      0  \n",
              "4                                 4.5718          -0.98880      0  "
            ],
            "text/html": [
              "\n",
              "  <div id=\"df-3bfd6a50-7038-41e0-93d3-c0a39ab0a2ba\">\n",
              "    <div class=\"colab-df-container\">\n",
              "      <div>\n",
              "<style scoped>\n",
              "    .dataframe tbody tr th:only-of-type {\n",
              "        vertical-align: middle;\n",
              "    }\n",
              "\n",
              "    .dataframe tbody tr th {\n",
              "        vertical-align: top;\n",
              "    }\n",
              "\n",
              "    .dataframe thead th {\n",
              "        text-align: right;\n",
              "    }\n",
              "</style>\n",
              "<table border=\"1\" class=\"dataframe\">\n",
              "  <thead>\n",
              "    <tr style=\"text-align: right;\">\n",
              "      <th></th>\n",
              "      <th>Variance of Wavelet Transformed image</th>\n",
              "      <th>Skewness of Wavelet Transformed image</th>\n",
              "      <th>Kurtosis of Wavelet Transformed image</th>\n",
              "      <th>Entropy of image</th>\n",
              "      <th>Class</th>\n",
              "    </tr>\n",
              "  </thead>\n",
              "  <tbody>\n",
              "    <tr>\n",
              "      <th>0</th>\n",
              "      <td>3.62160</td>\n",
              "      <td>8.6661</td>\n",
              "      <td>-2.8073</td>\n",
              "      <td>-0.44699</td>\n",
              "      <td>0</td>\n",
              "    </tr>\n",
              "    <tr>\n",
              "      <th>1</th>\n",
              "      <td>4.54590</td>\n",
              "      <td>8.1674</td>\n",
              "      <td>-2.4586</td>\n",
              "      <td>-1.46210</td>\n",
              "      <td>0</td>\n",
              "    </tr>\n",
              "    <tr>\n",
              "      <th>2</th>\n",
              "      <td>3.86600</td>\n",
              "      <td>-2.6383</td>\n",
              "      <td>1.9242</td>\n",
              "      <td>0.10645</td>\n",
              "      <td>0</td>\n",
              "    </tr>\n",
              "    <tr>\n",
              "      <th>3</th>\n",
              "      <td>3.45660</td>\n",
              "      <td>9.5228</td>\n",
              "      <td>-4.0112</td>\n",
              "      <td>-3.59440</td>\n",
              "      <td>0</td>\n",
              "    </tr>\n",
              "    <tr>\n",
              "      <th>4</th>\n",
              "      <td>0.32924</td>\n",
              "      <td>-4.4552</td>\n",
              "      <td>4.5718</td>\n",
              "      <td>-0.98880</td>\n",
              "      <td>0</td>\n",
              "    </tr>\n",
              "  </tbody>\n",
              "</table>\n",
              "</div>\n",
              "      <button class=\"colab-df-convert\" onclick=\"convertToInteractive('df-3bfd6a50-7038-41e0-93d3-c0a39ab0a2ba')\"\n",
              "              title=\"Convert this dataframe to an interactive table.\"\n",
              "              style=\"display:none;\">\n",
              "        \n",
              "  <svg xmlns=\"http://www.w3.org/2000/svg\" height=\"24px\"viewBox=\"0 0 24 24\"\n",
              "       width=\"24px\">\n",
              "    <path d=\"M0 0h24v24H0V0z\" fill=\"none\"/>\n",
              "    <path d=\"M18.56 5.44l.94 2.06.94-2.06 2.06-.94-2.06-.94-.94-2.06-.94 2.06-2.06.94zm-11 1L8.5 8.5l.94-2.06 2.06-.94-2.06-.94L8.5 2.5l-.94 2.06-2.06.94zm10 10l.94 2.06.94-2.06 2.06-.94-2.06-.94-.94-2.06-.94 2.06-2.06.94z\"/><path d=\"M17.41 7.96l-1.37-1.37c-.4-.4-.92-.59-1.43-.59-.52 0-1.04.2-1.43.59L10.3 9.45l-7.72 7.72c-.78.78-.78 2.05 0 2.83L4 21.41c.39.39.9.59 1.41.59.51 0 1.02-.2 1.41-.59l7.78-7.78 2.81-2.81c.8-.78.8-2.07 0-2.86zM5.41 20L4 18.59l7.72-7.72 1.47 1.35L5.41 20z\"/>\n",
              "  </svg>\n",
              "      </button>\n",
              "      \n",
              "  <style>\n",
              "    .colab-df-container {\n",
              "      display:flex;\n",
              "      flex-wrap:wrap;\n",
              "      gap: 12px;\n",
              "    }\n",
              "\n",
              "    .colab-df-convert {\n",
              "      background-color: #E8F0FE;\n",
              "      border: none;\n",
              "      border-radius: 50%;\n",
              "      cursor: pointer;\n",
              "      display: none;\n",
              "      fill: #1967D2;\n",
              "      height: 32px;\n",
              "      padding: 0 0 0 0;\n",
              "      width: 32px;\n",
              "    }\n",
              "\n",
              "    .colab-df-convert:hover {\n",
              "      background-color: #E2EBFA;\n",
              "      box-shadow: 0px 1px 2px rgba(60, 64, 67, 0.3), 0px 1px 3px 1px rgba(60, 64, 67, 0.15);\n",
              "      fill: #174EA6;\n",
              "    }\n",
              "\n",
              "    [theme=dark] .colab-df-convert {\n",
              "      background-color: #3B4455;\n",
              "      fill: #D2E3FC;\n",
              "    }\n",
              "\n",
              "    [theme=dark] .colab-df-convert:hover {\n",
              "      background-color: #434B5C;\n",
              "      box-shadow: 0px 1px 3px 1px rgba(0, 0, 0, 0.15);\n",
              "      filter: drop-shadow(0px 1px 2px rgba(0, 0, 0, 0.3));\n",
              "      fill: #FFFFFF;\n",
              "    }\n",
              "  </style>\n",
              "\n",
              "      <script>\n",
              "        const buttonEl =\n",
              "          document.querySelector('#df-3bfd6a50-7038-41e0-93d3-c0a39ab0a2ba button.colab-df-convert');\n",
              "        buttonEl.style.display =\n",
              "          google.colab.kernel.accessAllowed ? 'block' : 'none';\n",
              "\n",
              "        async function convertToInteractive(key) {\n",
              "          const element = document.querySelector('#df-3bfd6a50-7038-41e0-93d3-c0a39ab0a2ba');\n",
              "          const dataTable =\n",
              "            await google.colab.kernel.invokeFunction('convertToInteractive',\n",
              "                                                     [key], {});\n",
              "          if (!dataTable) return;\n",
              "\n",
              "          const docLinkHtml = 'Like what you see? Visit the ' +\n",
              "            '<a target=\"_blank\" href=https://colab.research.google.com/notebooks/data_table.ipynb>data table notebook</a>'\n",
              "            + ' to learn more about interactive tables.';\n",
              "          element.innerHTML = '';\n",
              "          dataTable['output_type'] = 'display_data';\n",
              "          await google.colab.output.renderOutput(dataTable, element);\n",
              "          const docLink = document.createElement('div');\n",
              "          docLink.innerHTML = docLinkHtml;\n",
              "          element.appendChild(docLink);\n",
              "        }\n",
              "      </script>\n",
              "    </div>\n",
              "  </div>\n",
              "  "
            ]
          },
          "metadata": {},
          "execution_count": 3
        }
      ]
    },
    {
      "cell_type": "code",
      "source": [
        "X = banknoteData.iloc[:,:-1].values\n",
        "y = (banknoteData.iloc[:,-1].values) #.reshape(-1,1)\n",
        "#the observation when dealing with adaboost are labeled with -1 or 1. Therefore we change the class label in the main dataset.\n",
        "y = np.where(y==0,-1,y)"
      ],
      "metadata": {
        "id": "LuvjNyBkb-S0"
      },
      "execution_count": 4,
      "outputs": []
    },
    {
      "cell_type": "code",
      "source": [
        "X_train, X_test, y_train, y_test = train_test_split(X,y,test_size=0.2, shuffle=True)\n",
        "print('n samples in Train set: ', len(X_train))\n",
        "print('n samples in Test set: ', len(X_test))"
      ],
      "metadata": {
        "colab": {
          "base_uri": "https://localhost:8080/"
        },
        "id": "7EVQj2IMb_5M",
        "outputId": "99841f99-2e97-4171-8136-3c138d03e83d"
      },
      "execution_count": 5,
      "outputs": [
        {
          "output_type": "stream",
          "name": "stdout",
          "text": [
            "n samples in Train set:  1097\n",
            "n samples in Test set:  275\n"
          ]
        }
      ]
    },
    {
      "cell_type": "markdown",
      "source": [
        "#AdaBoost from scratch#"
      ],
      "metadata": {
        "id": "pN_wHvu4cLpP"
      }
    },
    {
      "cell_type": "markdown",
      "source": [
        "*The idea is to rely on the Boosting strategy where a sequence of weak learners is combined into a stronger one. It is an ensemble methods.  By training the predictors sequentially is possibile that each predictor corrects the previous one (predecessor). \\\\\n",
        "One way for a predictor to correct its predecessor is to pay a bit more attention to the training instances that the predecessor underfitted. In other words the algorithm gives more weight to the misclassified training istances.\n",
        "This result in a predictor focusing more on hard cases. \\\\\n",
        "In AdaBoost the weak learners are usually decision trees of depth 1*"
      ],
      "metadata": {
        "id": "-M7WPNr0cOQF"
      }
    },
    {
      "cell_type": "code",
      "source": [
        "from sklearn.tree import DecisionTreeClassifier\n",
        "n_weak_learners = 100\n",
        "list_of_weak_learn = []\n",
        "alphas = []\n",
        "tr_errors = []\n",
        "N = X_train.shape[0]\n",
        "\n",
        "#at the beginning the weights are initialized with same values (1/N)\n",
        "w_i=(np.ones(N)*1/N)\n",
        "\n",
        "sample_weights = np.zeros(shape=(n_weak_learners, N))\n",
        "stumps = np.zeros(shape=n_weak_learners, dtype=object)\n",
        "stump_weights = np.zeros(shape=n_weak_learners)\n",
        "errors = np.zeros(shape=n_weak_learners)\n",
        "\n",
        "#weights initialization\n",
        "sample_weights[0] = np.ones(shape=N)/N\n",
        "\n",
        "#iterate over the M classifiers\n",
        "for i in range(0,n_weak_learners):\n",
        "  #fit a weak classifier and predict labels\n",
        "  w_i = sample_weights[i]\n",
        "  #G_m is only a decision tree of depth one called 'stump', i.e 2 terminal-node classification tree\n",
        "  G_m = DecisionTreeClassifier(max_depth=1,max_leaf_nodes=2)\n",
        "  G_m.fit(X_train, y_train, sample_weight=w_i)\n",
        "  y_pred_st = G_m.predict(X_train)\n",
        "\n",
        "  #find a weak learner that minimized the following error\n",
        "  #we take the index for w_i where the condiction != is satified, i.e the missclassified instances and we compute the error\n",
        "  e_t = np.sum(w_i[(y_pred_st != y_train)])\n",
        "  alpha_m = (1/2)*np.log((1-e_t)/e_t)\n",
        "  \n",
        "  #update sample weights by increasing them for the misclassified observations\n",
        "  update_weights = (w_i * np.exp(-alpha_m*y_train*y_pred_st))\n",
        "  #renormalize weights\n",
        "  update_weights /= update_weights.sum()\n",
        "\n",
        "  #update sample weights for t+1 if we are not in the final iteration\n",
        "  if i+1 < n_weak_learners:\n",
        "    sample_weights[i+1] = update_weights\n",
        "  \n",
        "  stumps[i] = G_m\n",
        "  stump_weights[i] = alpha_m\n",
        "  errors[i] = e_t"
      ],
      "metadata": {
        "id": "uDBuM_ekeTuJ"
      },
      "execution_count": 6,
      "outputs": []
    },
    {
      "cell_type": "markdown",
      "source": [
        "**Test Phase**"
      ],
      "metadata": {
        "id": "9I0is_crZuoH"
      }
    },
    {
      "cell_type": "code",
      "source": [
        "from sklearn.utils.extmath import stable_cumsum\n",
        "#get predictions based on majority of votes\n",
        "#stump_preds = np.array([stump.predict(X_test) for stump in self.stumps])\n",
        "stump_preds = []\n",
        "for st in stumps:\n",
        "  y_st_pred = st.predict(X_test)\n",
        "  stump_preds.append(y_st_pred)\n",
        "\n",
        "stump_preds = np.array(stump_preds)\n",
        "\n",
        "#the final predictions are given as the sign by the linear combination of each decision tree (stump) prediction and its corresponding weight alpha_m\n",
        "y_preds = np.sign(np.dot(stump_weights, stump_preds))\n",
        "\n",
        "#accuracy computation \n",
        "correct = np.sum(y_preds == y_test)\n",
        "accuracy = correct/len(y_test)\n",
        "\n",
        "cm = confusion_matrix(y_test, y_preds)\n",
        "print('AdaBoost from scratch confusion matrix: \\n', cm)\n",
        "print('\\n')\n",
        "print('AdaBoost accuracy: ', accuracy)\n",
        "print(classification_report(y_test, y_preds))"
      ],
      "metadata": {
        "colab": {
          "base_uri": "https://localhost:8080/"
        },
        "id": "eZFMixNzqyVY",
        "outputId": "90e63289-49e7-405f-fea4-e0f77199fd66"
      },
      "execution_count": 12,
      "outputs": [
        {
          "output_type": "stream",
          "name": "stdout",
          "text": [
            "AdaBoost from scratch confusion matrix: \n",
            " [[152   0]\n",
            " [  2 121]]\n",
            "\n",
            "\n",
            "AdaBoost accuracy:  0.9927272727272727\n",
            "              precision    recall  f1-score   support\n",
            "\n",
            "          -1       0.99      1.00      0.99       152\n",
            "           1       1.00      0.98      0.99       123\n",
            "\n",
            "    accuracy                           0.99       275\n",
            "   macro avg       0.99      0.99      0.99       275\n",
            "weighted avg       0.99      0.99      0.99       275\n",
            "\n"
          ]
        }
      ]
    },
    {
      "cell_type": "markdown",
      "source": [
        "*Comparison with the Sklearn Model*"
      ],
      "metadata": {
        "id": "gBOETqIVOSWC"
      }
    },
    {
      "cell_type": "code",
      "source": [
        "from sklearn.ensemble import AdaBoostClassifier\n",
        "\n",
        "adaBoost = AdaBoostClassifier(\n",
        "    DecisionTreeClassifier(max_depth=1), n_estimators=100,\n",
        "    algorithm=\"SAMME\", learning_rate=0.5)\n",
        "#training\n",
        "adaBoost.fit(X_train, y_train)"
      ],
      "metadata": {
        "colab": {
          "base_uri": "https://localhost:8080/"
        },
        "id": "KFQCVuhROYvO",
        "outputId": "f30b62c9-d15c-43ce-ac7e-ecfe36f1dafc"
      },
      "execution_count": 13,
      "outputs": [
        {
          "output_type": "execute_result",
          "data": {
            "text/plain": [
              "AdaBoostClassifier(algorithm='SAMME',\n",
              "                   base_estimator=DecisionTreeClassifier(max_depth=1),\n",
              "                   learning_rate=0.5, n_estimators=100)"
            ]
          },
          "metadata": {},
          "execution_count": 13
        }
      ]
    },
    {
      "cell_type": "code",
      "source": [
        "#test phase\n",
        "y_pred_sk = adaBoost.predict(X_test)\n",
        "cm_sk = confusion_matrix(y_test, y_pred_sk)\n",
        "print('AdaBoost confusion matrix: \\n', cm_sk)\n",
        "print('\\n')\n",
        "print (\"Accuracy : \", accuracy_score(y_test, y_pred_sk))\n",
        "print(classification_report(y_test, y_pred_sk))"
      ],
      "metadata": {
        "colab": {
          "base_uri": "https://localhost:8080/"
        },
        "id": "YicfeciKP2bT",
        "outputId": "223bd741-0ca0-4b39-fd48-f2d6363b2331"
      },
      "execution_count": 14,
      "outputs": [
        {
          "output_type": "stream",
          "name": "stdout",
          "text": [
            "AdaBoost confusion matrix: \n",
            " [[152   0]\n",
            " [  4 119]]\n",
            "\n",
            "\n",
            "Accuracy :  0.9854545454545455\n",
            "              precision    recall  f1-score   support\n",
            "\n",
            "          -1       0.97      1.00      0.99       152\n",
            "           1       1.00      0.97      0.98       123\n",
            "\n",
            "    accuracy                           0.99       275\n",
            "   macro avg       0.99      0.98      0.99       275\n",
            "weighted avg       0.99      0.99      0.99       275\n",
            "\n"
          ]
        }
      ]
    }
  ]
}