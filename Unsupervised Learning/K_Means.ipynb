{
  "nbformat": 4,
  "nbformat_minor": 0,
  "metadata": {
    "colab": {
      "name": "K-Means.ipynb",
      "provenance": [],
      "collapsed_sections": []
    },
    "kernelspec": {
      "name": "python3",
      "display_name": "Python 3"
    },
    "language_info": {
      "name": "python"
    }
  },
  "cells": [
    {
      "cell_type": "code",
      "execution_count": 238,
      "metadata": {
        "id": "4t6Pzhil3pO7"
      },
      "outputs": [],
      "source": [
        "import numpy as np\n",
        "import matplotlib.pyplot as plt\n",
        "from sklearn.preprocessing import StandardScaler\n",
        "from sklearn.datasets import make_blobs\n",
        "import random"
      ]
    },
    {
      "cell_type": "code",
      "source": [
        "#let's suppose to create 5 unlabelled clusters\n",
        "X, _=make_blobs(n_samples=100, centers=5, random_state=42)\n",
        "X = StandardScaler().fit_transform(X)\n",
        "plt.scatter(X[:, 0], X[:, 1], s=40)\n",
        "plt.xlabel(\"x\")\n",
        "plt.ylabel(\"y\")\n",
        "plt.show()"
      ],
      "metadata": {
        "colab": {
          "base_uri": "https://localhost:8080/",
          "height": 280
        },
        "id": "GtDwf8d9EpFB",
        "outputId": "058ff408-8645-464e-c4b6-5b5985ba8b21"
      },
      "execution_count": 240,
      "outputs": [
        {
          "output_type": "display_data",
          "data": {
            "text/plain": [
              "<Figure size 432x288 with 1 Axes>"
            ],
            "image/png": "[encoded data removed]"
          },
          "metadata": {
            "needs_background": "light"
          }
        }
      ]
    },
    {
      "cell_type": "markdown",
      "source": [
        "#K-Means clustering from scratch#"
      ],
      "metadata": {
        "id": "ndlFN9iWKR2w"
      }
    },
    {
      "cell_type": "code",
      "source": [
        "#to compute distance between one point and the others let's consider the euclidean distance\n",
        "def euclidean_distance(x_i,centroids):\n",
        "  euc_dists = []\n",
        "  for i in range(len(centroids)):\n",
        "    euc_dist= np.sqrt(np.sum((x_i-centroids[i])**2,axis=1))\n",
        "    euc_dists.append(euc_dist)\n",
        "  return euc_dists\n",
        "\n",
        "def update_centroid_pos(centroids, prev_centroids, centroids_clusters):\n",
        "  new_centroid_pos = []\n",
        "  for list_of_points,prev_pos in zip(centroids_clusters,prev_centroids):\n",
        "    if len(list_of_points) == 0:\n",
        "      mean_centroid = prev_pos\n",
        "    else:\n",
        "      mean_centroid = np.mean(list_of_points,axis=0)\n",
        "    \n",
        "    new_centroid_pos.append(mean_centroid.reshape(-1,1).T)\n",
        "  return new_centroid_pos\n",
        "\n",
        "#initialize the centroids positions with the k++ method, where the first centroid is taken randomly from the data points\n",
        "#the distances are computed from this point and then we select the next centroid randomly, with a probability proportional to the total distance to the centroids\n",
        "#the process is repeated till all the centroids have been initialized.\n",
        "def k_means_plus_plus(X,n_clusters):\n",
        "  centroids = [random.choice(X).reshape(-1,1).T]\n",
        "  euc_dist = 0\n",
        "  for _ in range(n_clusters-1):\n",
        "    #compute distances from centroid to all the data points\n",
        "    for centroid in centroids:\n",
        "      euc_dist = euclidean_distance(centroid, X)\n",
        "    # normalize distances\n",
        "    euc_dist /= np.sum(euc_dist)\n",
        "    #remaining points are chosen based on their distances\n",
        "    new_c_idx = np.random.choice(range(len(X)))\n",
        "    centroids += [X[new_c_idx].reshape(-1,1).T]\n",
        "  #print(centroids)\n",
        "  return centroids\n",
        "\n",
        "def K_means(X,n_clusters,n_iteration):\n",
        "  #k++ centroid initialization\n",
        "  centroids = k_means_plus_plus(X,n_clusters)\n",
        "  #at this point we iteratively adjust the centroids position according to the means of the points belonging to it\n",
        "  #first we iterate till (in general) the centroid stop moving\n",
        "  j = 0\n",
        "  past_cent_pos = None\n",
        "  while np.not_equal(centroids,past_cent_pos).any() and j<n_iteration:\n",
        "    \n",
        "    #create a list where each element represent a list of samples for each centroid to find clusters\n",
        "    centroids_clusters = [[] for _ in range(n_clusters)]\n",
        "    for x_i in X:\n",
        "      #compute the distance from a sample to each centroid\n",
        "      euc_distances = euclidean_distance(x_i,centroids)\n",
        "      #get the centroid with lowest distance from the point\n",
        "      c_idx = np.argmin(euc_distances)\n",
        "      #print(c_idx)\n",
        "      #add the data point to the list of the minimum distance centroid\n",
        "      centroids_clusters[c_idx].append(x_i)\n",
        "      #update the centroids position by taking the means of the data points in their respective lists\n",
        "    past_cent_pos = centroids     \n",
        "    centroids = update_centroid_pos(centroids,past_cent_pos,centroids_clusters)\n",
        "    j+=1\n",
        "\n",
        "  return centroids\n",
        "\n",
        "centroids = K_means(X,n_clusters=5,n_iteration=1000)"
      ],
      "metadata": {
        "id": "EhVPOK3jGJzq"
      },
      "execution_count": 262,
      "outputs": []
    },
    {
      "cell_type": "code",
      "source": [
        "plt.scatter(x=[X[0] for X in X], y=[X[1] for X in X])\n",
        "plt.plot([x[0][0] for x in centroids],[y[0][1] for y in centroids],'+',c = 'r',markersize=10)\n",
        "plt.show()"
      ],
      "metadata": {
        "colab": {
          "base_uri": "https://localhost:8080/",
          "height": 266
        },
        "id": "op7HhOnVpYpS",
        "outputId": "3f819a50-f2f5-43ef-bc8e-e4da1bf3e5ac"
      },
      "execution_count": 263,
      "outputs": [
        {
          "output_type": "display_data",
          "data": {
            "text/plain": [
              "<Figure size 432x288 with 1 Axes>"
            ],
            "image/png": "[encoded data removed]"
          },
          "metadata": {
            "needs_background": "light"
          }
        }
      ]
    },
    {
      "cell_type": "markdown",
      "source": [
        "*Comparison with Sklearn model*"
      ],
      "metadata": {
        "id": "ynAK_RnxIs-i"
      }
    },
    {
      "cell_type": "code",
      "source": [
        "from sklearn.cluster import KMeans\n",
        "\n",
        "k=5\n",
        "kmeans = KMeans(n_clusters=k) \n",
        "y_pred = kmeans.fit_predict(X)\n",
        "\n",
        "centroids_sk = kmeans.cluster_centers_\n",
        "print('centroids: \\n' ,centroids_sk)"
      ],
      "metadata": {
        "colab": {
          "base_uri": "https://localhost:8080/"
        },
        "id": "OXahLphxIwAf",
        "outputId": "bc587bbc-5d7b-4b4c-bc66-42a117e2de76"
      },
      "execution_count": 264,
      "outputs": [
        {
          "output_type": "stream",
          "name": "stdout",
          "text": [
            "centroids: \n",
            " [[-1.25790785  0.78626163]\n",
            " [-0.08246807  0.98545119]\n",
            " [ 1.38517539 -0.20092083]\n",
            " [-0.85560376 -1.78334025]\n",
            " [ 0.83815529  0.19285925]]\n"
          ]
        }
      ]
    },
    {
      "cell_type": "code",
      "source": [
        "plt.scatter(x=[X[0] for X in X], y=[X[1] for X in X])\n",
        "plt.plot([x_sk[0] for x_sk in centroids_sk],[y_sk[1] for y_sk in centroids_sk],'+',c = 'r',markersize=10)\n",
        "plt.show()"
      ],
      "metadata": {
        "colab": {
          "base_uri": "https://localhost:8080/",
          "height": 266
        },
        "id": "6CN0l9a9JUB1",
        "outputId": "1d05be2f-e221-4224-8fce-412c5adc773d"
      },
      "execution_count": 265,
      "outputs": [
        {
          "output_type": "display_data",
          "data": {
            "text/plain": [
              "<Figure size 432x288 with 1 Axes>"
            ],
            "image/png": "[encoded data removed]"
          },
          "metadata": {
            "needs_background": "light"
          }
        }
      ]
    }
  ]
}